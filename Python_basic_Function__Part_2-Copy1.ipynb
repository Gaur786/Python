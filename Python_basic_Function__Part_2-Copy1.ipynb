{
 "cells": [
  {
   "cell_type": "code",
   "execution_count": 5,
   "id": "4fe84508-a49f-4a0e-a6ec-49653d17757b",
   "metadata": {},
   "outputs": [],
   "source": [
    " # if u want to create any number of arguments than use *agrs\n",
    "    \n",
    "def test(*args):\n",
    "    return args"
   ]
  },
  {
   "cell_type": "code",
   "execution_count": 6,
   "id": "e7296563-7256-49dc-b389-45d9c2952041",
   "metadata": {},
   "outputs": [
    {
     "data": {
      "text/plain": [
       "(45, 56, 7)"
      ]
     },
     "execution_count": 6,
     "metadata": {},
     "output_type": "execute_result"
    }
   ],
   "source": [
    "test(45,56,7)"
   ]
  },
  {
   "cell_type": "code",
   "execution_count": 7,
   "id": "21ff7d74-183c-46df-8a53-3995adfc4b5e",
   "metadata": {},
   "outputs": [
    {
     "data": {
      "text/plain": [
       "([1, 2, 3, 4, 5, 5, 6, 7], 'sudh', 45, 67)"
      ]
     },
     "execution_count": 7,
     "metadata": {},
     "output_type": "execute_result"
    }
   ],
   "source": [
    "test([1,2,3,4,5,5,6,7],\"sudh\",45,67)"
   ]
  },
  {
   "cell_type": "code",
   "execution_count": 8,
   "id": "ac02ead3-c823-4927-88ba-449ae34cf1ad",
   "metadata": {},
   "outputs": [
    {
     "data": {
      "text/plain": [
       "([1, 2, 3, 4, 5, 5, 6, 7], 'sudh', 45, 67, (345+7j))"
      ]
     },
     "execution_count": 8,
     "metadata": {},
     "output_type": "execute_result"
    }
   ],
   "source": [
    "test([1,2,3,4,5,5,6,7],\"sudh\",45,67,345+7j)"
   ]
  },
  {
   "cell_type": "code",
   "execution_count": 9,
   "id": "1a493d87-7746-420e-9114-c83efa249722",
   "metadata": {},
   "outputs": [],
   "source": [
    "def test2(*abhi):\n",
    "    return abhi"
   ]
  },
  {
   "cell_type": "code",
   "execution_count": 11,
   "id": "2549dab4-23ab-4d5c-9549-95a0348d93db",
   "metadata": {},
   "outputs": [
    {
     "data": {
      "text/plain": [
       "([1, 2, 3, 4, 5, 5, 6, 7], 'sudh', 45, 67, (345+7j))"
      ]
     },
     "execution_count": 11,
     "metadata": {},
     "output_type": "execute_result"
    }
   ],
   "source": [
    "test2([1, 2, 3, 4, 5, 5, 6, 7], 'sudh', 45, 67, (345+7j))"
   ]
  },
  {
   "cell_type": "code",
   "execution_count": 14,
   "id": "0562f73b-9f41-4f1b-a3eb-53a4c88f9217",
   "metadata": {},
   "outputs": [],
   "source": [
    "def test3(*sudh, a):\n",
    "    return sudh, a \n",
    "    "
   ]
  },
  {
   "cell_type": "code",
   "execution_count": 19,
   "id": "1a95e1fe-fe5e-4327-9e14-f32ee2799e6a",
   "metadata": {},
   "outputs": [
    {
     "data": {
      "text/plain": [
       "((34, 56.767), 657457)"
      ]
     },
     "execution_count": 19,
     "metadata": {},
     "output_type": "execute_result"
    }
   ],
   "source": [
    "test3(34,56.767,a=657457 )"
   ]
  },
  {
   "cell_type": "code",
   "execution_count": 20,
   "id": "ca36eca0-8d1d-42b2-b4fc-e2007dbcbf01",
   "metadata": {},
   "outputs": [
    {
     "data": {
      "text/plain": [
       "((34, 56.767, [1, 12, 3, 4, 5]), 657457)"
      ]
     },
     "execution_count": 20,
     "metadata": {},
     "output_type": "execute_result"
    }
   ],
   "source": [
    "test3(34,56.767,[1,12,3,4,5,],a=657457 )\n"
   ]
  },
  {
   "cell_type": "code",
   "execution_count": 21,
   "id": "c63f85ca-0cee-4dcc-b14a-89df9e390436",
   "metadata": {},
   "outputs": [],
   "source": [
    "def test5(a, *sudh,b ,c):\n",
    "    return a, sudh, b,c"
   ]
  },
  {
   "cell_type": "code",
   "execution_count": 25,
   "id": "eef40fea-6e6d-4e7f-b36d-fb9e3d060f45",
   "metadata": {},
   "outputs": [
    {
     "data": {
      "text/plain": [
       "('sfsd', (([2, 3, 4, 5, 7, 7], 34, 45, 67, 867, 554),), 5, 336)"
      ]
     },
     "execution_count": 25,
     "metadata": {},
     "output_type": "execute_result"
    }
   ],
   "source": [
    "test5(\"sfsd\",([2,3,4,5,7,7],34,45,67,867,554), b = 5, c = 336)"
   ]
  },
  {
   "cell_type": "code",
   "execution_count": 41,
   "id": "1098120f-ec21-4031-94f9-235ead8cc3c1",
   "metadata": {},
   "outputs": [],
   "source": [
    "#take n number of data and only return list \n",
    "\n",
    "def test6(*args):\n",
    "    l = []\n",
    "    for i in args:\n",
    "        if type(i) == list:\n",
    "            l.append(i)\n",
    "    return l\n",
    "    "
   ]
  },
  {
   "cell_type": "code",
   "execution_count": 33,
   "id": "24208224-494a-4ef6-a566-e9810d43bf10",
   "metadata": {},
   "outputs": [
    {
     "data": {
      "text/plain": [
       "[23, 45, 6, 7, 3]"
      ]
     },
     "execution_count": 33,
     "metadata": {},
     "output_type": "execute_result"
    }
   ],
   "source": [
    "test6([23,45,6,7,3])"
   ]
  },
  {
   "cell_type": "code",
   "execution_count": 42,
   "id": "c791033a-743c-4cc9-a45f-51f9703e3778",
   "metadata": {},
   "outputs": [
    {
     "data": {
      "text/plain": [
       "[[23, 45, 6, 7, 3], [43, 45, 34, 2325, 5, 6667, 6, 7777]]"
      ]
     },
     "execution_count": 42,
     "metadata": {},
     "output_type": "execute_result"
    }
   ],
   "source": [
    "test6([23,45,6,7,3],[43,45,34,2325,5,6667,6,7777])"
   ]
  },
  {
   "cell_type": "code",
   "execution_count": 43,
   "id": "5265e6f0-c024-49c6-bb3b-a6fca60340b2",
   "metadata": {},
   "outputs": [],
   "source": [
    "d = { \"a\": [2,3,4,5,7], 6: [4,54,5,5,6]}"
   ]
  },
  {
   "cell_type": "code",
   "execution_count": 44,
   "id": "bf15fc94-2fd8-474b-89d3-90318e1172e7",
   "metadata": {},
   "outputs": [
    {
     "data": {
      "text/plain": [
       "[2, 3, 4, 5, 7]"
      ]
     },
     "execution_count": 44,
     "metadata": {},
     "output_type": "execute_result"
    }
   ],
   "source": [
    "d[\"a\"]"
   ]
  },
  {
   "cell_type": "code",
   "execution_count": 46,
   "id": "d3e55ae3-2e81-41c4-b23b-1005c773cd56",
   "metadata": {},
   "outputs": [
    {
     "data": {
      "text/plain": [
       "[4, 54, 5, 5, 6]"
      ]
     },
     "execution_count": 46,
     "metadata": {},
     "output_type": "execute_result"
    }
   ],
   "source": [
    "d[6]"
   ]
  },
  {
   "cell_type": "code",
   "execution_count": 47,
   "id": "f5b0504e-c9c4-4c76-98b1-f803031ba10f",
   "metadata": {},
   "outputs": [],
   "source": [
    "def test7(**kwargs):\n",
    "    return kwargs"
   ]
  },
  {
   "cell_type": "code",
   "execution_count": 48,
   "id": "7292d377-292a-47cf-a1a9-a471d83323af",
   "metadata": {},
   "outputs": [
    {
     "data": {
      "text/plain": [
       "{'a': 'sudh', 'b': [1, 2, 3, 4, 5]}"
      ]
     },
     "execution_count": 48,
     "metadata": {},
     "output_type": "execute_result"
    }
   ],
   "source": [
    "test7(a= \"sudh\" , b = [1,2,3,4,5])"
   ]
  },
  {
   "cell_type": "code",
   "execution_count": 49,
   "id": "d320965c-7e7d-4ddc-969b-7e27055d6ac1",
   "metadata": {},
   "outputs": [],
   "source": [
    "def test8(**sudh):\n",
    "    return sudh"
   ]
  },
  {
   "cell_type": "code",
   "execution_count": 51,
   "id": "7c56bba8-321b-4bfd-9720-feea423f7e30",
   "metadata": {},
   "outputs": [
    {
     "data": {
      "text/plain": [
       "{'b': 787, 'g': 235, 'f': [345, 546, 76, 78, 87, 87]}"
      ]
     },
     "execution_count": 51,
     "metadata": {},
     "output_type": "execute_result"
    }
   ],
   "source": [
    "test8(b=787,g=235,f=[345,546,76,78,87,87])"
   ]
  },
  {
   "cell_type": "code",
   "execution_count": 53,
   "id": "b1305f15-1c4f-47f5-bc96-9566e7c74b54",
   "metadata": {},
   "outputs": [],
   "source": [
    "def test9(**sudh):\n",
    "    return sudh"
   ]
  },
  {
   "cell_type": "code",
   "execution_count": 56,
   "id": "31f50dd5-219d-43e8-8652-26e58c771822",
   "metadata": {},
   "outputs": [
    {
     "data": {
      "text/plain": [
       "{'name': 'sudh',\n",
       " 'age': '31',\n",
       " 'phone_number': '4357',\n",
       " 'mail_id': 'hsffhsad@gmail.com',\n",
       " 'adr': 'fadfafffadsfad'}"
      ]
     },
     "execution_count": 56,
     "metadata": {},
     "output_type": "execute_result"
    }
   ],
   "source": [
    "test9(name = 'sudh', age = '31', phone_number = '4357',mail_id = \"hsffhsad@gmail.com\",adr = 'fadfafffadsfad')"
   ]
  },
  {
   "cell_type": "code",
   "execution_count": 59,
   "id": "904b02ad-17cb-4b87-aaec-16befd0310b4",
   "metadata": {},
   "outputs": [],
   "source": [
    "# syntax for passing single argumnet with  n number of argument at the same glance \n",
    "\n",
    "def test10(a ,**sudh):\n",
    "    return a , sudh\n",
    "    "
   ]
  },
  {
   "cell_type": "code",
   "execution_count": 58,
   "id": "1ce44b9a-f9ae-4f01-ac31-4dfe378d27e4",
   "metadata": {},
   "outputs": [
    {
     "data": {
      "text/plain": [
       "(45, {'t': 67, 'b': 78, 'c': 7, 'd': 8, 'e': 78})"
      ]
     },
     "execution_count": 58,
     "metadata": {},
     "output_type": "execute_result"
    }
   ],
   "source": [
    "test10(45,t=67,b=78,c=7,d=8,e=78)"
   ]
  },
  {
   "cell_type": "code",
   "execution_count": 60,
   "id": "9f8bf122-608d-4978-8260-773dcf1b5c9b",
   "metadata": {},
   "outputs": [
    {
     "ename": "SyntaxError",
     "evalue": "invalid syntax (121265454.py, line 3)",
     "output_type": "error",
     "traceback": [
      "\u001b[0;36m  Cell \u001b[0;32mIn [60], line 3\u001b[0;36m\u001b[0m\n\u001b[0;31m    def test11(a,**sudh,*args):\u001b[0m\n\u001b[0m                        ^\u001b[0m\n\u001b[0;31mSyntaxError\u001b[0m\u001b[0;31m:\u001b[0m invalid syntax\n"
     ]
    }
   ],
   "source": [
    "# Wrong way of passing single argumnet, n number of Key Value arguments  ,n number of argument at the same\n",
    "\n",
    "def test11(a,**sudh,*args):\n",
    "    return a,sudh,args "
   ]
  },
  {
   "cell_type": "code",
   "execution_count": 61,
   "id": "456626af-1879-429e-901c-a36699a3258e",
   "metadata": {},
   "outputs": [],
   "source": [
    "## Write  way of passing single argumnet, n number of Key Value arguments  ,n number of argument at the same\n",
    "\n",
    "def test12(a, *args, **sudh) :\n",
    "    return a, args, sudh\n",
    "    "
   ]
  },
  {
   "cell_type": "code",
   "execution_count": 62,
   "id": "4474bec8-ceff-48d1-a95f-57b6a483a31a",
   "metadata": {},
   "outputs": [
    {
     "data": {
      "text/plain": [
       "(45, (56, 67, 6, 7, 8, 9), {'g': 5543255, 'l': 57})"
      ]
     },
     "execution_count": 62,
     "metadata": {},
     "output_type": "execute_result"
    }
   ],
   "source": [
    "test12(45,56,67,6,7,8,9,g=5543255,l=57)"
   ]
  },
  {
   "cell_type": "code",
   "execution_count": 63,
   "id": "2de42419-fc11-4276-8d9e-4cf42848c020",
   "metadata": {},
   "outputs": [],
   "source": [
    "def test13(a,b):\n",
    "    return a*b"
   ]
  },
  {
   "cell_type": "code",
   "execution_count": 64,
   "id": "c2e69f8d-da95-4928-b8eb-37db5d0f2c43",
   "metadata": {},
   "outputs": [
    {
     "data": {
      "text/plain": [
       "3015"
      ]
     },
     "execution_count": 64,
     "metadata": {},
     "output_type": "execute_result"
    }
   ],
   "source": [
    "test13(45,67)"
   ]
  },
  {
   "cell_type": "code",
   "execution_count": 72,
   "id": "dc4b411d-c4ca-450f-9e90-efdca78ad82c",
   "metadata": {},
   "outputs": [],
   "source": [
    "a = lambda a,b : a*b"
   ]
  },
  {
   "cell_type": "code",
   "execution_count": 74,
   "id": "dd8ae3de-9b66-4453-8f0d-617110f54fca",
   "metadata": {},
   "outputs": [
    {
     "data": {
      "text/plain": [
       "3015"
      ]
     },
     "execution_count": 74,
     "metadata": {},
     "output_type": "execute_result"
    }
   ],
   "source": [
    "a(45,67)"
   ]
  },
  {
   "cell_type": "code",
   "execution_count": 75,
   "id": "8fa83e1c-d751-40a3-bcda-fd183c6ddea8",
   "metadata": {},
   "outputs": [],
   "source": [
    " a1 = lambda a,b : (a*b, a+b)"
   ]
  },
  {
   "cell_type": "code",
   "execution_count": 76,
   "id": "33c33d22-7c0e-4eb9-a47d-8c8078aa7fa4",
   "metadata": {},
   "outputs": [
    {
     "data": {
      "text/plain": [
       "(3015, 112)"
      ]
     },
     "execution_count": 76,
     "metadata": {},
     "output_type": "execute_result"
    }
   ],
   "source": [
    "a1(45,67)"
   ]
  },
  {
   "cell_type": "code",
   "execution_count": 79,
   "id": "f1878552-9ea7-4d65-84d1-8bc838060d1e",
   "metadata": {},
   "outputs": [],
   "source": [
    "a2 = lambda *a : a\n"
   ]
  },
  {
   "cell_type": "code",
   "execution_count": 82,
   "id": "e90d2b1d-d001-4f9b-ae3c-9bfdd314cbca",
   "metadata": {},
   "outputs": [
    {
     "data": {
      "text/plain": [
       "(56, 67, 78, 89, 90)"
      ]
     },
     "execution_count": 82,
     "metadata": {},
     "output_type": "execute_result"
    }
   ],
   "source": [
    "a2(56,67,78,89,90)"
   ]
  },
  {
   "cell_type": "code",
   "execution_count": 83,
   "id": "722a0751-315f-418e-9dbd-299caa4f3a59",
   "metadata": {},
   "outputs": [],
   "source": [
    "a3 = lambda **a : a"
   ]
  },
  {
   "cell_type": "code",
   "execution_count": 85,
   "id": "97036449-fc74-4531-a81f-17b1fd5ad1a6",
   "metadata": {},
   "outputs": [
    {
     "data": {
      "text/plain": [
       "{'a': 3, 'b': 4, 'c': 5, 'd': 8, 'e': 7}"
      ]
     },
     "execution_count": 85,
     "metadata": {},
     "output_type": "execute_result"
    }
   ],
   "source": [
    "a3(a=3,b=4,c=5,d=8,e=7)"
   ]
  },
  {
   "cell_type": "code",
   "execution_count": 86,
   "id": "07666690-ee72-49db-af23-6a7194e7b25b",
   "metadata": {},
   "outputs": [],
   "source": [
    "x = lambda x : [i for i in x]"
   ]
  },
  {
   "cell_type": "code",
   "execution_count": 88,
   "id": "b39caf56-49a3-40f0-a004-36e94fb592ee",
   "metadata": {},
   "outputs": [
    {
     "data": {
      "text/plain": [
       "[1, 2, 3, 4, 5]"
      ]
     },
     "execution_count": 88,
     "metadata": {},
     "output_type": "execute_result"
    }
   ],
   "source": [
    "x([1,2,3,4,5])"
   ]
  },
  {
   "cell_type": "code",
   "execution_count": 89,
   "id": "acab29dc-7b53-42aa-9cc5-dd2f3a29973c",
   "metadata": {},
   "outputs": [],
   "source": [
    "a = 10\n",
    "def test16(c,d):\n",
    "    a=5\n",
    "    return c*d"
   ]
  },
  {
   "cell_type": "code",
   "execution_count": 90,
   "id": "3b656122-4c27-4d94-bdd4-e09b1d547f09",
   "metadata": {},
   "outputs": [
    {
     "data": {
      "text/plain": [
       "500"
      ]
     },
     "execution_count": 90,
     "metadata": {},
     "output_type": "execute_result"
    }
   ],
   "source": [
    "test16(a,50)"
   ]
  },
  {
   "cell_type": "code",
   "execution_count": 98,
   "id": "3be1c24f-7022-418a-b8f5-a6c1eb0a6549",
   "metadata": {},
   "outputs": [],
   "source": [
    "# Global ANd  The Local Varibles\n",
    "\n",
    "a = 10\n",
    "def test16(c,d):\n",
    "    c=5\n",
    "    return c*d"
   ]
  },
  {
   "cell_type": "code",
   "execution_count": 92,
   "id": "23bb6585-54fc-4fe1-9155-4c63d955fad4",
   "metadata": {},
   "outputs": [
    {
     "data": {
      "text/plain": [
       "250"
      ]
     },
     "execution_count": 92,
     "metadata": {},
     "output_type": "execute_result"
    }
   ],
   "source": [
    "test16(10,50)"
   ]
  },
  {
   "cell_type": "code",
   "execution_count": 97,
   "id": "6db3d1fc-0957-4655-b917-78a1951e1bfa",
   "metadata": {},
   "outputs": [
    {
     "data": {
      "text/plain": [
       "10"
      ]
     },
     "execution_count": 97,
     "metadata": {},
     "output_type": "execute_result"
    }
   ],
   "source": [
    "a"
   ]
  },
  {
   "cell_type": "code",
   "execution_count": 99,
   "id": "38591782-8610-4f4c-95ed-9d54d09ebd68",
   "metadata": {},
   "outputs": [
    {
     "name": "stdout",
     "output_type": "stream",
     "text": [
      "[3, 4, 5, 6, 7]\n"
     ]
    }
   ],
   "source": [
    "# Try to go through the list one by one and add '2' in each and every element and return the list\n",
    "\n",
    "# Without using function\n",
    "\n",
    "a = [1,2,3,4,5]\n",
    "l=[]\n",
    "for i in a:\n",
    "    l.append(i+2)\n",
    "print(l)    "
   ]
  },
  {
   "cell_type": "code",
   "execution_count": 101,
   "id": "64c56849-8e59-4e01-8896-19d72fd933c4",
   "metadata": {},
   "outputs": [],
   "source": [
    "# With Using function\n",
    "\n",
    "def test17(a):\n",
    "    l=[]\n",
    "    for i in a:\n",
    "        l.append(i+2)\n",
    "    return(l)   "
   ]
  },
  {
   "cell_type": "code",
   "execution_count": 103,
   "id": "10c46707-2369-4709-bd21-1eea589515c4",
   "metadata": {},
   "outputs": [
    {
     "data": {
      "text/plain": [
       "[3, 4, 5, 6, 7]"
      ]
     },
     "execution_count": 103,
     "metadata": {},
     "output_type": "execute_result"
    }
   ],
   "source": [
    "test17([1,2,3,4,5])"
   ]
  },
  {
   "cell_type": "code",
   "execution_count": 105,
   "id": "f5ea482e-8781-4767-93b1-2231fa60cc9e",
   "metadata": {},
   "outputs": [],
   "source": [
    "# Using lambda function\n",
    "\n",
    "x = lambda x : [i+2 for i in a]"
   ]
  },
  {
   "cell_type": "code",
   "execution_count": 108,
   "id": "f8f02601-d214-4bc4-a53c-f42d0db9b190",
   "metadata": {},
   "outputs": [
    {
     "data": {
      "text/plain": [
       "[3, 4, 5, 6, 7]"
      ]
     },
     "execution_count": 108,
     "metadata": {},
     "output_type": "execute_result"
    }
   ],
   "source": [
    "x([1,2,3,4,5])"
   ]
  },
  {
   "cell_type": "code",
   "execution_count": 109,
   "id": "f51808fe-98d8-4e45-9464-5a20a294508f",
   "metadata": {},
   "outputs": [
    {
     "data": {
      "text/plain": [
       "[5, 6, 7, 8, 9]"
      ]
     },
     "execution_count": 109,
     "metadata": {},
     "output_type": "execute_result"
    }
   ],
   "source": [
    "# Using list Comprehension\n",
    "\n",
    "[i+2 for i in l]"
   ]
  },
  {
   "cell_type": "code",
   "execution_count": 112,
   "id": "15f4ccd8-4ad0-4f23-8d6d-616ab9521689",
   "metadata": {},
   "outputs": [
    {
     "data": {
      "text/plain": [
       "[(1, 2), (4, 4), (9, 6), (16, 8), (25, 10), (36, 12), (49, 14)]"
      ]
     },
     "execution_count": 112,
     "metadata": {},
     "output_type": "execute_result"
    }
   ],
   "source": [
    "l1=[1,2,3,4,5,6,7]\n",
    "[(i**2,i+i) for i in l1]"
   ]
  },
  {
   "cell_type": "code",
   "execution_count": 113,
   "id": "fbfedfa4-cc0a-4100-a09d-2cc9af7ad606",
   "metadata": {},
   "outputs": [
    {
     "data": {
      "text/plain": [
       "[(1, 2), (4, 4), (9, 6)]"
      ]
     },
     "execution_count": 113,
     "metadata": {},
     "output_type": "execute_result"
    }
   ],
   "source": [
    "l1=[1,2,3,4,5,6,7]\n",
    "[(i**2,i+i) for i in l1 if i<4]  "
   ]
  },
  {
   "cell_type": "code",
   "execution_count": 114,
   "id": "c222e1fe-0c94-4c7a-8b36-54b5e361a3f3",
   "metadata": {},
   "outputs": [
    {
     "data": {
      "text/plain": [
       "{0: 0, 1: 1, 2: 4, 3: 9, 4: 16, 5: 25, 6: 36, 7: 49, 8: 64, 9: 81}"
      ]
     },
     "execution_count": 114,
     "metadata": {},
     "output_type": "execute_result"
    }
   ],
   "source": [
    "#Dictionary Comprehension function\n",
    "\n",
    "{i:i**2 for i in range(10)}"
   ]
  },
  {
   "cell_type": "code",
   "execution_count": 118,
   "id": "021cb78d-9f7d-4dd9-8c39-a5c49b90a686",
   "metadata": {},
   "outputs": [],
   "source": [
    "# Mannually doing above program\n",
    "\n",
    "d1 = {}\n",
    "for  i in range(10):\n",
    "    d1[i] = i**2\n",
    "    "
   ]
  },
  {
   "cell_type": "code",
   "execution_count": 119,
   "id": "5c012a0f-ea3a-47e9-a934-8c0ab839183e",
   "metadata": {},
   "outputs": [
    {
     "data": {
      "text/plain": [
       "{0: 0, 1: 1, 2: 4, 3: 9, 4: 16, 5: 25, 6: 36, 7: 49, 8: 64, 9: 81}"
      ]
     },
     "execution_count": 119,
     "metadata": {},
     "output_type": "execute_result"
    }
   ],
   "source": [
    "d1"
   ]
  },
  {
   "cell_type": "code",
   "execution_count": 120,
   "id": "d73708a8-ca35-49b1-ba6a-166c4eaf885b",
   "metadata": {},
   "outputs": [
    {
     "data": {
      "text/plain": [
       "<generator object <genexpr> at 0x7fb78c2f1380>"
      ]
     },
     "execution_count": 120,
     "metadata": {},
     "output_type": "execute_result"
    }
   ],
   "source": [
    "# Tuple Comprehension Function\n",
    "\n",
    "(i**2 for i in range(10))"
   ]
  },
  {
   "cell_type": "code",
   "execution_count": 121,
   "id": "e6c885a3-0331-4974-971f-e10a73f3e4b0",
   "metadata": {},
   "outputs": [
    {
     "data": {
      "text/plain": [
       "(0, 1, 4, 9, 16, 25, 36, 49, 64, 81)"
      ]
     },
     "execution_count": 121,
     "metadata": {},
     "output_type": "execute_result"
    }
   ],
   "source": [
    "\n",
    "tuple(i**2 for i in range(10))"
   ]
  },
  {
   "cell_type": "code",
   "execution_count": 122,
   "id": "1b12e419-0c4f-439c-95e6-76a75b293cfe",
   "metadata": {},
   "outputs": [],
   "source": [
    "s = \"sudh\"\n"
   ]
  },
  {
   "cell_type": "code",
   "execution_count": 123,
   "id": "58f6d583-4bb8-4f99-bd98-6fd07527edab",
   "metadata": {},
   "outputs": [
    {
     "ename": "TypeError",
     "evalue": "'str' object is not an iterator",
     "output_type": "error",
     "traceback": [
      "\u001b[0;31m---------------------------------------------------------------------------\u001b[0m",
      "\u001b[0;31mTypeError\u001b[0m                                 Traceback (most recent call last)",
      "Cell \u001b[0;32mIn [123], line 1\u001b[0m\n\u001b[0;32m----> 1\u001b[0m \u001b[38;5;28;43mnext\u001b[39;49m\u001b[43m(\u001b[49m\u001b[43ms\u001b[49m\u001b[43m)\u001b[49m\n",
      "\u001b[0;31mTypeError\u001b[0m: 'str' object is not an iterator"
     ]
    }
   ],
   "source": [
    "next(s)"
   ]
  },
  {
   "cell_type": "code",
   "execution_count": 132,
   "id": "3159c709-9223-47c4-8ba3-0c209a6f510c",
   "metadata": {},
   "outputs": [],
   "source": [
    "a = iter(s)"
   ]
  },
  {
   "cell_type": "code",
   "execution_count": 133,
   "id": "a3b36bad-2b9c-495c-a261-2ef08925a6be",
   "metadata": {},
   "outputs": [
    {
     "data": {
      "text/plain": [
       "<str_iterator at 0x7fb7957275b0>"
      ]
     },
     "execution_count": 133,
     "metadata": {},
     "output_type": "execute_result"
    }
   ],
   "source": [
    "a"
   ]
  },
  {
   "cell_type": "code",
   "execution_count": 134,
   "id": "5debeef3-5134-477b-bece-9f00ffe1b1db",
   "metadata": {},
   "outputs": [
    {
     "data": {
      "text/plain": [
       "'s'"
      ]
     },
     "execution_count": 134,
     "metadata": {},
     "output_type": "execute_result"
    }
   ],
   "source": [
    "next(a)"
   ]
  },
  {
   "cell_type": "code",
   "execution_count": 135,
   "id": "a191c67e-36ef-48d6-8b87-2c0da10b5803",
   "metadata": {},
   "outputs": [
    {
     "data": {
      "text/plain": [
       "'u'"
      ]
     },
     "execution_count": 135,
     "metadata": {},
     "output_type": "execute_result"
    }
   ],
   "source": [
    "next(a)"
   ]
  },
  {
   "cell_type": "code",
   "execution_count": 136,
   "id": "ce04b38b-21a5-44f9-9a39-6fdeaa36c165",
   "metadata": {},
   "outputs": [
    {
     "data": {
      "text/plain": [
       "'d'"
      ]
     },
     "execution_count": 136,
     "metadata": {},
     "output_type": "execute_result"
    }
   ],
   "source": [
    "next(a)"
   ]
  },
  {
   "cell_type": "code",
   "execution_count": 137,
   "id": "e9f084ea-ccaa-4cd8-a288-311022811e0d",
   "metadata": {},
   "outputs": [
    {
     "data": {
      "text/plain": [
       "'h'"
      ]
     },
     "execution_count": 137,
     "metadata": {},
     "output_type": "execute_result"
    }
   ],
   "source": [
    "next(a)"
   ]
  },
  {
   "cell_type": "code",
   "execution_count": 138,
   "id": "9a7e4787-3d32-4be5-ad7f-af181c733d51",
   "metadata": {},
   "outputs": [
    {
     "ename": "SyntaxError",
     "evalue": "invalid syntax (1163877536.py, line 1)",
     "output_type": "error",
     "traceback": [
      "\u001b[0;36m  Cell \u001b[0;32mIn [138], line 1\u001b[0;36m\u001b[0m\n\u001b[0;31m    next(a)next(a)\u001b[0m\n\u001b[0m           ^\u001b[0m\n\u001b[0;31mSyntaxError\u001b[0m\u001b[0;31m:\u001b[0m invalid syntax\n"
     ]
    }
   ],
   "source": [
    "next(a)next(a)"
   ]
  },
  {
   "cell_type": "code",
   "execution_count": null,
   "id": "5ae43786-5af6-4a95-b4ca-914291fa3557",
   "metadata": {},
   "outputs": [],
   "source": []
  }
 ],
 "metadata": {
  "kernelspec": {
   "display_name": "Python 3 (ipykernel)",
   "language": "python",
   "name": "python3"
  },
  "language_info": {
   "codemirror_mode": {
    "name": "ipython",
    "version": 3
   },
   "file_extension": ".py",
   "mimetype": "text/x-python",
   "name": "python",
   "nbconvert_exporter": "python",
   "pygments_lexer": "ipython3",
   "version": "3.10.6"
  }
 },
 "nbformat": 4,
 "nbformat_minor": 5
}
