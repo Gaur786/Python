{
 "cells": [
  {
   "cell_type": "code",
   "execution_count": 1,
   "id": "12922407-166a-42c9-a15f-6bd925f39ec5",
   "metadata": {},
   "outputs": [
    {
     "name": "stdin",
     "output_type": "stream",
     "text": [
      " jfsadjfasd\n"
     ]
    },
    {
     "name": "stdout",
     "output_type": "stream",
     "text": [
      "invalid literal for int() with base 10: 'jfsadjfasd'\n",
      "fjsajflksdjflksdajf\n"
     ]
    }
   ],
   "source": [
    "# Exception handling\n",
    "\n",
    "try :\n",
    "    a = int(input())\n",
    "    b= int(input())\n",
    "except Exception as e :\n",
    "    print(e)\n",
    "print(\"fjsajflksdjflksdajf\")    "
   ]
  },
  {
   "cell_type": "code",
   "execution_count": 6,
   "id": "22fc9f42-aa69-4e34-9784-8c5584640f27",
   "metadata": {},
   "outputs": [
    {
     "name": "stdout",
     "output_type": "stream",
     "text": [
      "this is my handler\n",
      "1\n",
      "2\n",
      "3\n",
      "4\n",
      "5\n",
      "6\n",
      "7\n"
     ]
    }
   ],
   "source": [
    "#Using  multiple try and except block\n",
    "\n",
    "try :\n",
    "    f  = open(\"test1.txt\",\"r\")\n",
    "    f.write(\"this is my code with exceptoi handling\")\n",
    "    print(\"this is my code after write ops\")\n",
    "except :\n",
    "    print(\"this is my handler\")\n",
    "    \n",
    "try:\n",
    "    l = [1,2,3,4,5,6,7]\n",
    "    for i in l:\n",
    "        print(i)\n",
    "except :\n",
    "    print(\"this is my hadler\")        \n",
    "        \n",
    "    "
   ]
  },
  {
   "cell_type": "code",
   "execution_count": 9,
   "id": "b8fbba5e-d8d0-42ef-8f55-7ee9069014e5",
   "metadata": {},
   "outputs": [
    {
     "name": "stdin",
     "output_type": "stream",
     "text": [
      " kjfhk\n"
     ]
    },
    {
     "name": "stdout",
     "output_type": "stream",
     "text": [
      "invalid literal for int() with base 10: 'kjfhk'\n"
     ]
    }
   ],
   "source": [
    "try:\n",
    "    d={\"key1\":\"sidh\", \"key2\":[1,2,3,4,5],\"key3\" : (4,5,6,7,8)}\n",
    "    d[\"key4\"] = int(input())\n",
    "except Exception as sudh:\n",
    "       print(sudh)\n",
    "        "
   ]
  },
  {
   "cell_type": "code",
   "execution_count": 11,
   "id": "114dc72b-31bb-4af7-9c40-60dff196c202",
   "metadata": {},
   "outputs": [
    {
     "name": "stdin",
     "output_type": "stream",
     "text": [
      " 567\n"
     ]
    },
    {
     "ename": "FileNotFoundError",
     "evalue": "[Errno 2] No such file or directory: 'test2'",
     "output_type": "error",
     "traceback": [
      "\u001b[0;31m---------------------------------------------------------------------------\u001b[0m",
      "\u001b[0;31mFileNotFoundError\u001b[0m                         Traceback (most recent call last)",
      "Cell \u001b[0;32mIn [11], line 4\u001b[0m\n\u001b[1;32m      2\u001b[0m     d\u001b[38;5;241m=\u001b[39m{\u001b[38;5;124m\"\u001b[39m\u001b[38;5;124mkey1\u001b[39m\u001b[38;5;124m\"\u001b[39m:\u001b[38;5;124m\"\u001b[39m\u001b[38;5;124msidh\u001b[39m\u001b[38;5;124m\"\u001b[39m, \u001b[38;5;124m\"\u001b[39m\u001b[38;5;124mkey2\u001b[39m\u001b[38;5;124m\"\u001b[39m:[\u001b[38;5;241m1\u001b[39m,\u001b[38;5;241m2\u001b[39m,\u001b[38;5;241m3\u001b[39m,\u001b[38;5;241m4\u001b[39m,\u001b[38;5;241m5\u001b[39m],\u001b[38;5;124m\"\u001b[39m\u001b[38;5;124mkey3\u001b[39m\u001b[38;5;124m\"\u001b[39m : (\u001b[38;5;241m4\u001b[39m,\u001b[38;5;241m5\u001b[39m,\u001b[38;5;241m6\u001b[39m,\u001b[38;5;241m7\u001b[39m,\u001b[38;5;241m8\u001b[39m)}\n\u001b[1;32m      3\u001b[0m     d[\u001b[38;5;124m\"\u001b[39m\u001b[38;5;124mkey4\u001b[39m\u001b[38;5;124m\"\u001b[39m] \u001b[38;5;241m=\u001b[39m \u001b[38;5;28mint\u001b[39m(\u001b[38;5;28minput\u001b[39m())\n\u001b[0;32m----> 4\u001b[0m     f \u001b[38;5;241m=\u001b[39m \u001b[38;5;28;43mopen\u001b[39;49m\u001b[43m(\u001b[49m\u001b[38;5;124;43m\"\u001b[39;49m\u001b[38;5;124;43mtest2\u001b[39;49m\u001b[38;5;124;43m\"\u001b[39;49m\u001b[43m,\u001b[49m\u001b[38;5;124;43m'\u001b[39;49m\u001b[38;5;124;43mr\u001b[39;49m\u001b[38;5;124;43m'\u001b[39;49m\u001b[43m)\u001b[49m\n\u001b[1;32m      5\u001b[0m \u001b[38;5;28;01mexcept\u001b[39;00m \u001b[38;5;167;01mValueError\u001b[39;00m \u001b[38;5;28;01mas\u001b[39;00m sudh:\n\u001b[1;32m      6\u001b[0m        \u001b[38;5;28mprint\u001b[39m(sudh)\n",
      "\u001b[0;31mFileNotFoundError\u001b[0m: [Errno 2] No such file or directory: 'test2'"
     ]
    }
   ],
   "source": [
    "#Using the specific class to handle exception\n",
    "try:\n",
    "    d={\"key1\":\"sidh\", \"key2\":[1,2,3,4,5],\"key3\" : (4,5,6,7,8)}\n",
    "    d[\"key4\"] = int(input())\n",
    "    f = open(\"test2\",'r')\n",
    "except ValueError as sudh:\n",
    "       print(sudh)\n",
    "        "
   ]
  },
  {
   "cell_type": "code",
   "execution_count": 12,
   "id": "2572d1ee-1741-49ac-90cb-ecf777d973f9",
   "metadata": {},
   "outputs": [
    {
     "name": "stdin",
     "output_type": "stream",
     "text": [
      " 567\n"
     ]
    },
    {
     "name": "stdout",
     "output_type": "stream",
     "text": [
      "[Errno 2] No such file or directory: 'test2'\n"
     ]
    }
   ],
   "source": [
    "try:\n",
    "    d={\"key1\":\"sidh\", \"key2\":[1,2,3,4,5],\"key3\" : (4,5,6,7,8)}\n",
    "    d[\"key4\"] = int(input())\n",
    "    f = open(\"test2\",'r')\n",
    "except Exception as sudh:\n",
    "       print(sudh)"
   ]
  },
  {
   "cell_type": "code",
   "execution_count": 16,
   "id": "a5157201-4cfb-486b-b8aa-82a047ef2a5c",
   "metadata": {},
   "outputs": [
    {
     "name": "stdout",
     "output_type": "stream",
     "text": [
      "do this on successfull execution of try block \n",
      "do this for sure\n",
      "handle this\n",
      "it will come to this block for sure\n"
     ]
    }
   ],
   "source": [
    "try:\n",
    "    f = open(\"test54.txt\",'w')\n",
    "except Exception as e :\n",
    "        print(\"fhasfsajf\",e)\n",
    "             \n",
    "else :\n",
    "    print(\"do this on successfull execution of try block \")\n",
    "finally :\n",
    "    print(\"do this for sure\")\n",
    "    try:\n",
    "        f = open(\"affj\",\"r\")\n",
    "    except :\n",
    "        print(\"handle this\")\n",
    "    finally :\n",
    "        print(\"it will come to this block for sure\")\n",
    "     \n",
    "             \n",
    "             \n",
    "    "
   ]
  },
  {
   "cell_type": "code",
   "execution_count": 17,
   "id": "ade5c135-dae7-47c3-a153-3f7108fc1cf7",
   "metadata": {},
   "outputs": [],
   "source": [
    "def askint():\n",
    "    try:\n",
    "        a = int(input())\n",
    "        return a\n",
    "    except Exception as e :\n",
    "        print(\"this is my input error \" ,e)"
   ]
  },
  {
   "cell_type": "code",
   "execution_count": 19,
   "id": "fea4f2ed-93b2-4ab8-9efa-65e3dd2201d0",
   "metadata": {},
   "outputs": [
    {
     "name": "stdin",
     "output_type": "stream",
     "text": [
      " 345\n"
     ]
    },
    {
     "data": {
      "text/plain": [
       "345"
      ]
     },
     "execution_count": 19,
     "metadata": {},
     "output_type": "execute_result"
    }
   ],
   "source": [
    "askint()"
   ]
  },
  {
   "cell_type": "code",
   "execution_count": 34,
   "id": "af5ac08e-a86d-45a3-af3e-bd8f73569019",
   "metadata": {},
   "outputs": [],
   "source": [
    "def askint1():\n",
    "    try:\n",
    "        a = int(input())\n",
    "        return a\n",
    "    except Exception as e :\n",
    "        print(\"enter the integer value only\",e)\n",
    "\n",
    "    askint1()        \n",
    "        "
   ]
  },
  {
   "cell_type": "code",
   "execution_count": 36,
   "id": "2d424dae-7150-4648-a6f2-ca0cc852be03",
   "metadata": {},
   "outputs": [
    {
     "name": "stdin",
     "output_type": "stream",
     "text": [
      " sffsjflkds\n"
     ]
    },
    {
     "name": "stdout",
     "output_type": "stream",
     "text": [
      "enter the integer value only invalid literal for int() with base 10: 'sffsjflkds'\n"
     ]
    },
    {
     "name": "stdin",
     "output_type": "stream",
     "text": [
      " lskjfa\n"
     ]
    },
    {
     "name": "stdout",
     "output_type": "stream",
     "text": [
      "enter the integer value only invalid literal for int() with base 10: 'lskjfa'\n"
     ]
    },
    {
     "name": "stdin",
     "output_type": "stream",
     "text": [
      " 123454\n"
     ]
    }
   ],
   "source": [
    "askint1()"
   ]
  },
  {
   "cell_type": "code",
   "execution_count": 43,
   "id": "0d5f54ad-ffb6-4b27-a56e-e4e172c66e45",
   "metadata": {},
   "outputs": [],
   "source": [
    "# Creating my own custom Exception\n",
    "\n",
    "def test(a) :\n",
    "    if a < 0 :\n",
    "        raise Exception(\"You have entered a negative value\" ,a)\n",
    "    return a   "
   ]
  },
  {
   "cell_type": "code",
   "execution_count": 44,
   "id": "e1958e4e-219e-4e4f-83ec-2f079d81c131",
   "metadata": {},
   "outputs": [
    {
     "ename": "Exception",
     "evalue": "('You have entered a negative value', -4)",
     "output_type": "error",
     "traceback": [
      "\u001b[0;31m---------------------------------------------------------------------------\u001b[0m",
      "\u001b[0;31mException\u001b[0m                                 Traceback (most recent call last)",
      "Cell \u001b[0;32mIn [44], line 1\u001b[0m\n\u001b[0;32m----> 1\u001b[0m \u001b[43mtest\u001b[49m\u001b[43m(\u001b[49m\u001b[38;5;241;43m-\u001b[39;49m\u001b[38;5;241;43m4\u001b[39;49m\u001b[43m)\u001b[49m\n",
      "Cell \u001b[0;32mIn [43], line 5\u001b[0m, in \u001b[0;36mtest\u001b[0;34m(a)\u001b[0m\n\u001b[1;32m      3\u001b[0m \u001b[38;5;28;01mdef\u001b[39;00m \u001b[38;5;21mtest\u001b[39m(a) :\n\u001b[1;32m      4\u001b[0m     \u001b[38;5;28;01mif\u001b[39;00m a \u001b[38;5;241m<\u001b[39m \u001b[38;5;241m0\u001b[39m :\n\u001b[0;32m----> 5\u001b[0m         \u001b[38;5;28;01mraise\u001b[39;00m \u001b[38;5;167;01mException\u001b[39;00m(\u001b[38;5;124m\"\u001b[39m\u001b[38;5;124mYou have entered a negative value\u001b[39m\u001b[38;5;124m\"\u001b[39m ,a)\n\u001b[1;32m      6\u001b[0m     \u001b[38;5;28;01mreturn\u001b[39;00m a\n",
      "\u001b[0;31mException\u001b[0m: ('You have entered a negative value', -4)"
     ]
    }
   ],
   "source": [
    "test(-4)"
   ]
  },
  {
   "cell_type": "code",
   "execution_count": 41,
   "id": "7f55a5d3-869c-4437-8171-576ceb64026a",
   "metadata": {},
   "outputs": [
    {
     "ename": "FileNotFoundError",
     "evalue": "[Errno 2] No such file or directory: 'flajfjlkdasfjfl'",
     "output_type": "error",
     "traceback": [
      "\u001b[0;31m---------------------------------------------------------------------------\u001b[0m",
      "\u001b[0;31mFileNotFoundError\u001b[0m                         Traceback (most recent call last)",
      "Cell \u001b[0;32mIn [41], line 1\u001b[0m\n\u001b[0;32m----> 1\u001b[0m g \u001b[38;5;241m=\u001b[39m \u001b[38;5;28;43mopen\u001b[39;49m\u001b[43m(\u001b[49m\u001b[38;5;124;43m\"\u001b[39;49m\u001b[38;5;124;43mflajfjlkdasfjfl\u001b[39;49m\u001b[38;5;124;43m\"\u001b[39;49m\u001b[43m,\u001b[49m\u001b[38;5;124;43m\"\u001b[39;49m\u001b[38;5;124;43mr\u001b[39;49m\u001b[38;5;124;43m\"\u001b[39;49m\u001b[43m)\u001b[49m\n",
      "\u001b[0;31mFileNotFoundError\u001b[0m: [Errno 2] No such file or directory: 'flajfjlkdasfjfl'"
     ]
    }
   ],
   "source": [
    "g = open(\"flajfjlkdasfjfl\",\"r\")"
   ]
  },
  {
   "cell_type": "code",
   "execution_count": 47,
   "id": "99fc411b-d19b-4757-a819-8e27510051bc",
   "metadata": {},
   "outputs": [],
   "source": [
    "# creating an Exception based on our senario\n",
    "\n",
    "def test(a) :\n",
    "    if a == \"sudh\" :\n",
    "        raise TypeError(\"You have entered the wrong value \" , a)\n",
    "        return a\n",
    "    "
   ]
  },
  {
   "cell_type": "code",
   "execution_count": 52,
   "id": "b3e5bfad-8218-4808-a576-2c4c5761589c",
   "metadata": {},
   "outputs": [
    {
     "name": "stdin",
     "output_type": "stream",
     "text": [
      " sudh\n"
     ]
    },
    {
     "name": "stdout",
     "output_type": "stream",
     "text": [
      "calling my raised exception ('You have entered the wrong value ', 'sudh')\n"
     ]
    }
   ],
   "source": [
    "try:\n",
    "    a = input()\n",
    "    test(a)\n",
    "except Exception as e :\n",
    "    print(\"calling my raised exception\",e)"
   ]
  },
  {
   "cell_type": "code",
   "execution_count": null,
   "id": "4b0a586a-41c1-4fe6-9ffe-cc51f03bc944",
   "metadata": {},
   "outputs": [],
   "source": []
  }
 ],
 "metadata": {
  "kernelspec": {
   "display_name": "Python 3 (ipykernel)",
   "language": "python",
   "name": "python3"
  },
  "language_info": {
   "codemirror_mode": {
    "name": "ipython",
    "version": 3
   },
   "file_extension": ".py",
   "mimetype": "text/x-python",
   "name": "python",
   "nbconvert_exporter": "python",
   "pygments_lexer": "ipython3",
   "version": "3.10.6"
  }
 },
 "nbformat": 4,
 "nbformat_minor": 5
}
