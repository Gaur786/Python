{
 "cells": [
  {
   "cell_type": "code",
   "execution_count": 1,
   "id": "11b30856-ce49-4ea8-948c-9ea2af0bee39",
   "metadata": {},
   "outputs": [
    {
     "name": "stdout",
     "output_type": "stream",
     "text": [
      "Hello WOlrd!!\n"
     ]
    }
   ],
   "source": [
    "print(\"Hello WOlrd!!\")"
   ]
  },
  {
   "cell_type": "code",
   "execution_count": 2,
   "id": "0bc77ef6-cb07-402e-a835-fef5aec2f4de",
   "metadata": {},
   "outputs": [
    {
     "data": {
      "text/plain": [
       "26"
      ]
     },
     "execution_count": 2,
     "metadata": {},
     "output_type": "execute_result"
    }
   ],
   "source": [
    "s= \"THis is basic python class\"\n",
    "\n",
    "len(s)"
   ]
  },
  {
   "cell_type": "code",
   "execution_count": 3,
   "id": "dee547d9-5631-4d54-9c39-598a636cb0af",
   "metadata": {},
   "outputs": [
    {
     "name": "stdout",
     "output_type": "stream",
     "text": [
      "26\n"
     ]
    }
   ],
   "source": [
    "count = 0 \n",
    "for i in s :\n",
    "    count = count + 1\n",
    "print(count)    "
   ]
  },
  {
   "cell_type": "code",
   "execution_count": 11,
   "id": "3077c43c-c768-4f7c-a825-7a13cc0bb10c",
   "metadata": {},
   "outputs": [
    {
     "name": "stdout",
     "output_type": "stream",
     "text": [
      "s\n",
      "s\n",
      "a\n",
      "l\n",
      "c\n",
      " \n",
      "n\n",
      "o\n",
      "h\n",
      "t\n",
      "y\n",
      "p\n",
      " \n",
      "c\n",
      "i\n",
      "s\n",
      "a\n",
      "b\n",
      " \n",
      "s\n",
      "i\n",
      " \n",
      "s\n",
      "i\n",
      "H\n",
      "T\n"
     ]
    }
   ],
   "source": [
    "for i in range(len(s)-1,-1,-1):\n",
    "    print (s[i])"
   ]
  },
  {
   "cell_type": "code",
   "execution_count": 2,
   "id": "6baeee0f-8837-446c-9c7c-1df104f7ba39",
   "metadata": {},
   "outputs": [
    {
     "name": "stdout",
     "output_type": "stream",
     "text": [
      "s s a l c   n o h t y p   c i s a b   s i   s i H T "
     ]
    }
   ],
   "source": [
    "s= \"THis is basic python class\"\n",
    "i = len(s)-1\n",
    "while(i>=0):\n",
    "    print(s[i],end=\" \")\n",
    "    i=i-1"
   ]
  },
  {
   "cell_type": "code",
   "execution_count": 6,
   "id": "d185b50f-d9dd-469b-9acf-683f0d9286cf",
   "metadata": {},
   "outputs": [
    {
     "name": "stdout",
     "output_type": "stream",
     "text": [
      "Vowel i\n",
      "Not Vowel n\n",
      "Vowel e\n",
      "Vowel u\n",
      "Not Vowel r\n",
      "Vowel o\n",
      "Not Vowel n\n"
     ]
    }
   ],
   "source": [
    "s = \"ineuron\"\n",
    "v = \"AaEeIiOoUu\"\n",
    "\n",
    "for i in s:\n",
    "    if i in v:\n",
    "         print(\"Vowel\",i)\n",
    "    else:\n",
    "        print(\"Not Vowel\",i)\n",
    "           \n",
    "           \n",
    "   \n",
    "          \n"
   ]
  },
  {
   "cell_type": "code",
   "execution_count": 30,
   "id": "c8a3e9a2-9087-489c-b181-03ef409a8d2f",
   "metadata": {},
   "outputs": [
    {
     "name": "stdout",
     "output_type": "stream",
     "text": [
      "malayalam Is Palindrome\n"
     ]
    }
   ],
   "source": [
    "# program to find a palindrome\n",
    "\n",
    "\n",
    "s = 'malayalam'\n",
    "for i in range(len(s)):\n",
    "    if s[i] == s[len(s)-1-i]:\n",
    "                 print(s,\"Is Palindrome\")\n",
    "                 break\n",
    "    else:\n",
    "         print(s,\"Not Palindrome\")\n",
    "              \n",
    "            \n",
    "         \n",
    "        \n",
    "                       \n",
    "                \n",
    "                 \n",
    "    \n",
    "       \n",
    "   \n",
    "  \n",
    "             \n",
    "\n",
    "       \n",
    "     \n",
    "\n",
    "              \n",
    "    "
   ]
  },
  {
   "cell_type": "code",
   "execution_count": 42,
   "id": "13369429-e935-4239-b6dd-6051e17ce873",
   "metadata": {},
   "outputs": [
    {
     "name": "stdout",
     "output_type": "stream",
     "text": [
      "['INdia']\n",
      "['canada']\n",
      "['canada', 'united state ']\n"
     ]
    }
   ],
   "source": [
    "d = {\"INdia\" : \"IN\",\n",
    "     \"canada\" : \"CA\",\n",
    "     \"united state \" : \"US\"\n",
    "    }\n",
    "l_greater = []\n",
    "l_smaller = []\n",
    "for i in d:\n",
    "    if len(i) <= 5:\n",
    "        l_smaller.append(i)\n",
    "        print(l_smaller)\n",
    "    else:\n",
    "        l_greater.append(i)\n",
    "        print(l_greater)\n",
    "      \n",
    "       \n",
    "          "
   ]
  },
  {
   "cell_type": "code",
   "execution_count": 43,
   "id": "cdaae435-10f0-49cf-9d2a-6fc5ddd2d87d",
   "metadata": {},
   "outputs": [
    {
     "data": {
      "text/plain": [
       "['INdia']"
      ]
     },
     "execution_count": 43,
     "metadata": {},
     "output_type": "execute_result"
    }
   ],
   "source": [
    "l_smaller"
   ]
  },
  {
   "cell_type": "code",
   "execution_count": 44,
   "id": "a13d37f2-c694-4666-b8dc-1c6b65520018",
   "metadata": {},
   "outputs": [
    {
     "data": {
      "text/plain": [
       "['canada', 'united state ']"
      ]
     },
     "execution_count": 44,
     "metadata": {},
     "output_type": "execute_result"
    }
   ],
   "source": [
    "l_greater"
   ]
  },
  {
   "cell_type": "code",
   "execution_count": 59,
   "id": "beed9c90",
   "metadata": {},
   "outputs": [
    {
     "name": "stdout",
     "output_type": "stream",
     "text": [
      "14\n",
      "45\n",
      "Second Mehtod:  14\n",
      "Second Mehtod:  45\n"
     ]
    }
   ],
   "source": [
    "d_1 = {\"inuron\" : {\n",
    "                            \"a\" : 14,\n",
    "                            \"b\":10,\n",
    "                            \"c\":4\n",
    "                        },\n",
    "                 'course': {\n",
    "                            'd':45,\n",
    "                            'e':34,\n",
    "                            'f':1\n",
    "                 }\n",
    "      }\n",
    "\n",
    "\n",
    "for i in d_1:\n",
    "    print(max(d_1[i].values()))\n",
    "    \n",
    "    \n",
    "\n",
    "#Another Method\n",
    "\n",
    "\n",
    "\n",
    "for i in d_1.values():\n",
    "    m= 0\n",
    "    for j in i.values():\n",
    "         if m < j:\n",
    "            m = j\n",
    "    print(\"Second Mehtod: \",m)      \n",
    "                    \n",
    "        \n",
    "   \n",
    "      \n",
    "     \n",
    "     \n",
    "                            "
   ]
  },
  {
   "cell_type": "code",
   "execution_count": 10,
   "id": "265b648d-16d2-4b4c-967d-7ede9e776b67",
   "metadata": {},
   "outputs": [
    {
     "name": "stdout",
     "output_type": "stream",
     "text": [
      "ineuron\n",
      "14\n",
      "course\n",
      "45\n"
     ]
    }
   ],
   "source": [
    "\n",
    "d_1 = {\"ineuron\" : {\n",
    "                            \"a\" : 14,\n",
    "                            \"b\":10,\n",
    "                            \"c\":4\n",
    "                        },\n",
    "                 'course': {\n",
    "                            'd':45,\n",
    "                            'e':34,\n",
    "                            'f':1\n",
    "                 }\n",
    "      }\n",
    "\n",
    "\n",
    "for i in d_1.keys():\n",
    "    print(i)\n",
    "    print(max(d_1[i].values()))"
   ]
  },
  {
   "cell_type": "code",
   "execution_count": 25,
   "id": "6780cf7a-f74e-4a06-a8ee-fb75e91fb3c4",
   "metadata": {},
   "outputs": [
    {
     "name": "stdout",
     "output_type": "stream",
     "text": [
      "45\n"
     ]
    }
   ],
   "source": [
    "d_2 = {\"inuron\" : {\n",
    "                            \"a\" : 14,\n",
    "                            \"b\":10,\n",
    "                            \"c\":4\n",
    "                        },\n",
    "                 'course': {\n",
    "                            'd':45,\n",
    "                            'e':34,\n",
    "                            'f':1\n",
    "                 },\n",
    "               \"g\":34,\n",
    "               \"h\":[45,6,7,8,9,3],\n",
    "               \"i\":(45,34,2),\n",
    "               \"k\":\"sudh\"\n",
    "      }\n",
    "l =[]\n",
    "for i in d_2.values():\n",
    "    if type(i) != str and type(i) != complex:\n",
    "        if type(i) == list or type(i) == tuple or type(i) == set:\n",
    "            l.extend(list(i))\n",
    "        elif type(i) == dict:\n",
    "            for j in i.values():         \n",
    "                l.append(j)\n",
    "print(max(l))             \n",
    "\n",
    "            \n",
    "            \n",
    "            \n",
    "            \n",
    "\n"
   ]
  },
  {
   "cell_type": "code",
   "execution_count": null,
   "id": "92371413-03f4-40ba-9c59-7ca6c15ec6c0",
   "metadata": {},
   "outputs": [],
   "source": []
  }
 ],
 "metadata": {
  "kernelspec": {
   "display_name": "Python 3 (ipykernel)",
   "language": "python",
   "name": "python3"
  },
  "language_info": {
   "codemirror_mode": {
    "name": "ipython",
    "version": 3
   },
   "file_extension": ".py",
   "mimetype": "text/x-python",
   "name": "python",
   "nbconvert_exporter": "python",
   "pygments_lexer": "ipython3",
   "version": "3.10.6"
  }
 },
 "nbformat": 4,
 "nbformat_minor": 5
}
