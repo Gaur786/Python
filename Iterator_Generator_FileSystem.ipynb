{
 "cells": [
  {
   "cell_type": "code",
   "execution_count": 1,
   "id": "2599fee1-e63b-4761-8035-745e981a73d1",
   "metadata": {},
   "outputs": [],
   "source": [
    "l =[1,2,3,4,5]"
   ]
  },
  {
   "cell_type": "code",
   "execution_count": 2,
   "id": "a7ce8a94-e567-4a90-aa92-cfda17be9fde",
   "metadata": {},
   "outputs": [
    {
     "ename": "TypeError",
     "evalue": "'list' object is not an iterator",
     "output_type": "error",
     "traceback": [
      "\u001b[0;31m---------------------------------------------------------------------------\u001b[0m",
      "\u001b[0;31mTypeError\u001b[0m                                 Traceback (most recent call last)",
      "Cell \u001b[0;32mIn [2], line 1\u001b[0m\n\u001b[0;32m----> 1\u001b[0m \u001b[38;5;28;43mnext\u001b[39;49m\u001b[43m(\u001b[49m\u001b[43ml\u001b[49m\u001b[43m)\u001b[49m\n",
      "\u001b[0;31mTypeError\u001b[0m: 'list' object is not an iterator"
     ]
    }
   ],
   "source": [
    "next(l)"
   ]
  },
  {
   "cell_type": "code",
   "execution_count": 3,
   "id": "4235b8be-068f-4c33-bce9-029544fc615b",
   "metadata": {},
   "outputs": [],
   "source": [
    "# list is a iterable so first convert it into iterator.\n",
    "#Using iter()\n",
    "l = iter(l)"
   ]
  },
  {
   "cell_type": "code",
   "execution_count": 4,
   "id": "8824fe32-092c-4774-bd91-9031c76fd4c3",
   "metadata": {},
   "outputs": [
    {
     "data": {
      "text/plain": [
       "1"
      ]
     },
     "execution_count": 4,
     "metadata": {},
     "output_type": "execute_result"
    }
   ],
   "source": [
    "#Now iterate one one by usng next\n",
    "next(l)"
   ]
  },
  {
   "cell_type": "code",
   "execution_count": 5,
   "id": "30798739-5777-4e07-b87a-627e81ad5a2c",
   "metadata": {},
   "outputs": [
    {
     "data": {
      "text/plain": [
       "2"
      ]
     },
     "execution_count": 5,
     "metadata": {},
     "output_type": "execute_result"
    }
   ],
   "source": [
    "next(l)"
   ]
  },
  {
   "cell_type": "code",
   "execution_count": 6,
   "id": "80b2168c-e428-4f87-a161-076ba80c2224",
   "metadata": {},
   "outputs": [
    {
     "data": {
      "text/plain": [
       "3"
      ]
     },
     "execution_count": 6,
     "metadata": {},
     "output_type": "execute_result"
    }
   ],
   "source": [
    "next(l)"
   ]
  },
  {
   "cell_type": "code",
   "execution_count": 7,
   "id": "53c7041c-9ea5-4a72-91b7-b821cbe64eed",
   "metadata": {},
   "outputs": [
    {
     "data": {
      "text/plain": [
       "4"
      ]
     },
     "execution_count": 7,
     "metadata": {},
     "output_type": "execute_result"
    }
   ],
   "source": [
    "next(l)"
   ]
  },
  {
   "cell_type": "code",
   "execution_count": 8,
   "id": "8169dd5d-7dff-48db-bed9-1eb158bc830b",
   "metadata": {},
   "outputs": [
    {
     "data": {
      "text/plain": [
       "5"
      ]
     },
     "execution_count": 8,
     "metadata": {},
     "output_type": "execute_result"
    }
   ],
   "source": [
    "next(l)"
   ]
  },
  {
   "cell_type": "code",
   "execution_count": 9,
   "id": "8f0056f9-948b-444e-853a-fb6509fa6581",
   "metadata": {},
   "outputs": [
    {
     "data": {
      "text/plain": [
       "[0, 3, 6, 9, 12, 15, 18, 21, 24, 27, 30, 33, 36, 39, 42]"
      ]
     },
     "execution_count": 9,
     "metadata": {},
     "output_type": "execute_result"
    }
   ],
   "source": [
    "list(range(0,45,3))"
   ]
  },
  {
   "cell_type": "code",
   "execution_count": 14,
   "id": "2ae478ff-dddf-4249-9403-c7551592b877",
   "metadata": {},
   "outputs": [],
   "source": [
    "def gencube(n) :\n",
    "    l=[]\n",
    "    for i in range(n):\n",
    "        l.append(i**3)\n",
    "    return(l)   "
   ]
  },
  {
   "cell_type": "code",
   "execution_count": 15,
   "id": "8cb1cd8c-30aa-496b-8c87-bbfa63e28390",
   "metadata": {},
   "outputs": [
    {
     "data": {
      "text/plain": [
       "[0,\n",
       " 1,\n",
       " 8,\n",
       " 27,\n",
       " 64,\n",
       " 125,\n",
       " 216,\n",
       " 343,\n",
       " 512,\n",
       " 729,\n",
       " 1000,\n",
       " 1331,\n",
       " 1728,\n",
       " 2197,\n",
       " 2744,\n",
       " 3375,\n",
       " 4096,\n",
       " 4913,\n",
       " 5832,\n",
       " 6859,\n",
       " 8000,\n",
       " 9261,\n",
       " 10648,\n",
       " 12167,\n",
       " 13824,\n",
       " 15625,\n",
       " 17576,\n",
       " 19683,\n",
       " 21952,\n",
       " 24389,\n",
       " 27000,\n",
       " 29791,\n",
       " 32768,\n",
       " 35937,\n",
       " 39304,\n",
       " 42875,\n",
       " 46656,\n",
       " 50653,\n",
       " 54872,\n",
       " 59319,\n",
       " 64000,\n",
       " 68921,\n",
       " 74088,\n",
       " 79507,\n",
       " 85184,\n",
       " 91125,\n",
       " 97336,\n",
       " 103823,\n",
       " 110592,\n",
       " 117649,\n",
       " 125000,\n",
       " 132651,\n",
       " 140608,\n",
       " 148877,\n",
       " 157464,\n",
       " 166375,\n",
       " 175616,\n",
       " 185193,\n",
       " 195112,\n",
       " 205379]"
      ]
     },
     "execution_count": 15,
     "metadata": {},
     "output_type": "execute_result"
    }
   ],
   "source": [
    "gencube(60)"
   ]
  },
  {
   "cell_type": "code",
   "execution_count": 16,
   "id": "66e4b111-8566-4a65-b14d-3cbb32bf48f1",
   "metadata": {},
   "outputs": [
    {
     "data": {
      "text/plain": [
       "range(0, 100000000000000000)"
      ]
     },
     "execution_count": 16,
     "metadata": {},
     "output_type": "execute_result"
    }
   ],
   "source": [
    "range(100000000000000000)"
   ]
  },
  {
   "cell_type": "code",
   "execution_count": 19,
   "id": "7834d5f9-5588-47dd-a585-7087944f8dcf",
   "metadata": {},
   "outputs": [],
   "source": [
    "def gencube(n) :\n",
    "\n",
    "    for i in range(n):\n",
    "        yield(i**3)\n",
    "    print(l)"
   ]
  },
  {
   "cell_type": "code",
   "execution_count": 20,
   "id": "89d1bfcd-3f4c-4985-b465-aa86c433ee26",
   "metadata": {},
   "outputs": [
    {
     "data": {
      "text/plain": [
       "<generator object gencube at 0x7f291d75c820>"
      ]
     },
     "execution_count": 20,
     "metadata": {},
     "output_type": "execute_result"
    }
   ],
   "source": [
    "gencube(10)"
   ]
  },
  {
   "cell_type": "code",
   "execution_count": 22,
   "id": "0429d664-c899-43c9-8a61-31411cbebc0a",
   "metadata": {},
   "outputs": [
    {
     "name": "stdout",
     "output_type": "stream",
     "text": [
      "0\n",
      "1\n",
      "8\n",
      "27\n",
      "64\n",
      "125\n",
      "216\n",
      "343\n",
      "512\n",
      "729\n",
      "<list_iterator object at 0x7f292c230280>\n"
     ]
    }
   ],
   "source": [
    "for i in gencube(10):\n",
    "    print(i)"
   ]
  },
  {
   "cell_type": "code",
   "execution_count": 51,
   "id": "22479301-6f24-48b6-8018-dd8471c880ca",
   "metadata": {},
   "outputs": [],
   "source": [
    "# Print the nth fabonacci series\n",
    "def fabo(n):\n",
    "    a=1\n",
    "    b=1\n",
    "    output = []  \n",
    "    for i in range(n):\n",
    "        output.append(a)\n",
    "        a,b = b,a+b\n",
    "    return(output)   \n",
    "   "
   ]
  },
  {
   "cell_type": "code",
   "execution_count": 54,
   "id": "7eec9fdb-7452-4154-a0ca-40e746921a12",
   "metadata": {},
   "outputs": [
    {
     "data": {
      "text/plain": [
       "[1, 1, 2, 3, 5, 8, 13, 21, 34, 55]"
      ]
     },
     "execution_count": 54,
     "metadata": {},
     "output_type": "execute_result"
    }
   ],
   "source": [
    " fabo(10)\n",
    "    "
   ]
  },
  {
   "cell_type": "code",
   "execution_count": 55,
   "id": "304bc93a-20ab-4f7c-8c90-442f1116d1c5",
   "metadata": {},
   "outputs": [],
   "source": [
    "# nth fibonacci series using Yield function\n",
    "def fib(n):\n",
    "    a=1\n",
    "    b=1\n",
    "    for i in range(n):\n",
    "        yield a,i\n",
    "        a,b = b , a+b\n",
    "\n"
   ]
  },
  {
   "cell_type": "code",
   "execution_count": 57,
   "id": "939cfdc5-e998-4dea-9a16-b2cd794ff443",
   "metadata": {},
   "outputs": [
    {
     "name": "stdout",
     "output_type": "stream",
     "text": [
      "(1, 0)\n",
      "(1, 1)\n",
      "(2, 2)\n",
      "(3, 3)\n",
      "(5, 4)\n",
      "(8, 5)\n",
      "(13, 6)\n",
      "(21, 7)\n",
      "(34, 8)\n",
      "(55, 9)\n"
     ]
    }
   ],
   "source": [
    "for i in fib(10):\n",
    "    print(i)"
   ]
  },
  {
   "cell_type": "code",
   "execution_count": 58,
   "id": "39932f1b-9bca-450b-9561-aa1225c6561e",
   "metadata": {},
   "outputs": [],
   "source": [
    "# file Operations in Python\n",
    "\n",
    "f= open(\"test.txt\",\"w\")"
   ]
  },
  {
   "cell_type": "code",
   "execution_count": 62,
   "id": "634923e5-634f-4cab-90d0-64b988b92378",
   "metadata": {},
   "outputs": [],
   "source": [
    "f= open(\"test1.txt\",\"w\")"
   ]
  },
  {
   "cell_type": "code",
   "execution_count": 81,
   "id": "47a71387-913f-4da2-bf86-f19c1ffb5ffe",
   "metadata": {},
   "outputs": [
    {
     "name": "stdout",
     "output_type": "stream",
     "text": [
      "Loops_Questions.ipynb                      README.md          test.txt\n",
      "Python_basic_Function_Part_1.ipynb         sample-code.ipynb  Untitled.ipynb\n",
      "Python_basic_Function__Part_2-Copy1.ipynb  test1.txt\n"
     ]
    }
   ],
   "source": [
    "#to list all the file in our pwd\n",
    "%ls"
   ]
  },
  {
   "cell_type": "code",
   "execution_count": 91,
   "id": "1f6bb4e0-9b45-4ebc-bbf5-c4b4bf854604",
   "metadata": {},
   "outputs": [],
   "source": [
    "f=open(\"test.txt\",'w')"
   ]
  },
  {
   "cell_type": "code",
   "execution_count": 92,
   "id": "327865c7-c778-4f66-a733-83a49f1b3e83",
   "metadata": {},
   "outputs": [
    {
     "data": {
      "text/plain": [
       "129"
      ]
     },
     "execution_count": 92,
     "metadata": {},
     "output_type": "execute_result"
    }
   ],
   "source": [
    "f.write('this is my first file operation kffaf sfjsadlkfjsdfjos fs asodjflksjdfsajf sadf sdidfjlsadjfoisufjsd fss fosadflujosjf jlfjsao;d ')"
   ]
  },
  {
   "cell_type": "code",
   "execution_count": 93,
   "id": "4e587320-41a6-42aa-94ca-1426866c3fcc",
   "metadata": {},
   "outputs": [],
   "source": [
    "f.close()"
   ]
  },
  {
   "cell_type": "code",
   "execution_count": 94,
   "id": "827706ea-e2fb-4c37-b9f1-cca64d512d4a",
   "metadata": {},
   "outputs": [],
   "source": [
    "f= open('test.txt')"
   ]
  },
  {
   "cell_type": "code",
   "execution_count": 95,
   "id": "481d999c-a740-4f1f-b9d8-bf4fe55b78bb",
   "metadata": {},
   "outputs": [
    {
     "data": {
      "text/plain": [
       "'this is my first file operation kffaf sfjsadlkfjsdfjos fs asodjflksjdfsajf sadf sdidfjlsadjfoisufjsd fss fosadflujosjf jlfjsao;d '"
      ]
     },
     "execution_count": 95,
     "metadata": {},
     "output_type": "execute_result"
    }
   ],
   "source": [
    "f.read()"
   ]
  },
  {
   "cell_type": "code",
   "execution_count": 96,
   "id": "6b76580f-ae56-4d45-8dcb-5962a29e5136",
   "metadata": {},
   "outputs": [
    {
     "data": {
      "text/plain": [
       "0"
      ]
     },
     "execution_count": 96,
     "metadata": {},
     "output_type": "execute_result"
    }
   ],
   "source": [
    "f.seek(0)"
   ]
  },
  {
   "cell_type": "code",
   "execution_count": 97,
   "id": "b36ad337-703e-4b17-b5ef-d6eb14af2494",
   "metadata": {},
   "outputs": [
    {
     "data": {
      "text/plain": [
       "'this is my first file operation kffaf sfjsadlkfjsdfjos fs asodjflksjdfsajf sadf sdidfjlsadjfoisufjsd fss fosadflujosjf jlfjsao;d '"
      ]
     },
     "execution_count": 97,
     "metadata": {},
     "output_type": "execute_result"
    }
   ],
   "source": [
    "f.read()"
   ]
  },
  {
   "cell_type": "code",
   "execution_count": 87,
   "id": "a3e1a90a-f67b-4daf-9da3-3d72921040f2",
   "metadata": {},
   "outputs": [
    {
     "data": {
      "text/plain": [
       "0"
      ]
     },
     "execution_count": 87,
     "metadata": {},
     "output_type": "execute_result"
    }
   ],
   "source": [
    "f.tell()"
   ]
  },
  {
   "cell_type": "code",
   "execution_count": 99,
   "id": "be6c388b-26c7-4afc-bb60-5ec197b8ee39",
   "metadata": {},
   "outputs": [],
   "source": [
    "f=open(\"test.txt\",\"r+\")"
   ]
  },
  {
   "cell_type": "code",
   "execution_count": 103,
   "id": "a1570d58-881d-4e97-95cd-64a43cbba20d",
   "metadata": {},
   "outputs": [
    {
     "data": {
      "text/plain": [
       "'this is my first file operation kffaf sfjsadlkfjsdfjos fs asodjflksjdfsajf sadf sdidfjlsadjfoisufjsd fss fosadflujosjf jlfjsao;d '"
      ]
     },
     "execution_count": 103,
     "metadata": {},
     "output_type": "execute_result"
    }
   ],
   "source": [
    "f.read()"
   ]
  },
  {
   "cell_type": "code",
   "execution_count": 107,
   "id": "11c535d6-3efd-4577-a542-d2e98d73ede2",
   "metadata": {},
   "outputs": [
    {
     "data": {
      "text/plain": [
       "'this is my first file operation kffaf sfjsadlkfjsdfjos fs asodjflksjdfsajf sadf sdidfjlsadjfoisufjsd fss fosadflujosjf jlfjsao;d '"
      ]
     },
     "execution_count": 107,
     "metadata": {},
     "output_type": "execute_result"
    }
   ],
   "source": [
    "f.readline()"
   ]
  },
  {
   "cell_type": "code",
   "execution_count": 105,
   "id": "4b771fef-5c98-4dcd-befa-94699769056b",
   "metadata": {},
   "outputs": [
    {
     "data": {
      "text/plain": [
       "129"
      ]
     },
     "execution_count": 105,
     "metadata": {},
     "output_type": "execute_result"
    }
   ],
   "source": [
    "f.tell()"
   ]
  },
  {
   "cell_type": "code",
   "execution_count": 106,
   "id": "b35044e9-a145-4961-af63-7267e9234962",
   "metadata": {},
   "outputs": [
    {
     "data": {
      "text/plain": [
       "0"
      ]
     },
     "execution_count": 106,
     "metadata": {},
     "output_type": "execute_result"
    }
   ],
   "source": [
    "f.seek(0)"
   ]
  },
  {
   "cell_type": "code",
   "execution_count": 108,
   "id": "ceca6c40-0b48-423b-b691-b4e29c7e3bb7",
   "metadata": {},
   "outputs": [],
   "source": [
    "f = open(\"Neuron.txt\",\"w\")"
   ]
  },
  {
   "cell_type": "code",
   "execution_count": 111,
   "id": "cfade594-d4d5-40ee-9444-74e9cb34a957",
   "metadata": {},
   "outputs": [
    {
     "data": {
      "text/plain": [
       "2424"
      ]
     },
     "execution_count": 111,
     "metadata": {},
     "output_type": "execute_result"
    }
   ],
   "source": [
    "#writing  multiple line in file\n",
    "\n",
    "f.write(\"\"\"A neuron, neurone, or nerve cell is an electrically excitable cell that communicates with other cells via specialized connections called synapses. The neuron is the main component of nervous tissue in all animals except sponges and placozoa. Non-animals like plants and fungi do not have nerve cells.\n",
    "\n",
    "Neurons are typically classified into three types based on their function. Sensory neurons respond to stimuli such as touch, sound, or light that affect the cells of the sensory organs, and they send signals to the spinal cord or brain. Motor neurons receive signals from the brain and spinal cord to control everything from muscle contractions to glandular output. Interneurons connect neurons to other neurons within the same region of the brain or spinal cord. When multiple neurons are connected together, they form what is called a neural circuit.\n",
    "\n",
    "A typical neuron consists of a cell body (soma), dendrites, and a single axon. The soma is a compact structure, and the axon and dendrites are filaments extruding from the soma. Dendrites typically branch profusely and extend a few hundred micrometers from the soma. The axon leaves the soma at a swelling called the axon hillock and travels for as far as 1 meter in humans or more in other species. It branches but usually maintains a constant diameter. At the farthest tip of the axon's branches are axon terminals, where the neuron can transmit a signal across the synapse to another cell. Neurons may lack dendrites or have no axon. The term neurite is used to describe either a dendrite or an axon, particularly when the cell is undifferentiated.\n",
    "\n",
    "Most neurons receive signals via the dendrites and soma and send out signals down the axon. At the majority of synapses, signals cross from the axon of one neuron to a dendrite of another. However, synapses can connect an axon to another axon or a dendrite to another dendrite.\n",
    "\n",
    "The signaling process is partly electrical and partly chemical. Neurons are electrically excitable, due to maintenance of voltage gradients across their membranes. If the voltage changes by a large enough amount over a short interval, the neuron generates an all-or-nothing electrochemical pulse called an action potential. This potential travels rapidly along the axon and activates synaptic connections as it reaches them. Synaptic signals may be excitatory or inhibitory, increasing or reducing the net voltage that reaches the soma.\"\"\")"
   ]
  },
  {
   "cell_type": "code",
   "execution_count": 112,
   "id": "ab269ee2-388f-4108-8ec8-75f636de8a20",
   "metadata": {},
   "outputs": [],
   "source": [
    "f.close()"
   ]
  },
  {
   "cell_type": "code",
   "execution_count": 119,
   "id": "aece8a8e-a905-4025-8a49-5fa600ce151f",
   "metadata": {},
   "outputs": [],
   "source": [
    "f = open(\"Neuron.txt\",\"r+\")"
   ]
  },
  {
   "cell_type": "code",
   "execution_count": 114,
   "id": "ad1b6624-b122-499b-a641-b5dd60123363",
   "metadata": {},
   "outputs": [
    {
     "data": {
      "text/plain": [
       "\"A neuron, neurone, or nerve cell is an electrically excitable cell that communicates with other cells via specialized connections called synapses. The neuron is the main component of nervous tissue in all animals except sponges and placozoa. Non-animals like plants and fungi do not have nerve cells.\\n\\nNeurons are typically classified into three types based on their function. Sensory neurons respond to stimuli such as touch, sound, or light that affect the cells of the sensory organs, and they send signals to the spinal cord or brain. Motor neurons receive signals from the brain and spinal cord to control everything from muscle contractions to glandular output. Interneurons connect neurons to other neurons within the same region of the brain or spinal cord. When multiple neurons are connected together, they form what is called a neural circuit.\\n\\nA typical neuron consists of a cell body (soma), dendrites, and a single axon. The soma is a compact structure, and the axon and dendrites are filaments extruding from the soma. Dendrites typically branch profusely and extend a few hundred micrometers from the soma. The axon leaves the soma at a swelling called the axon hillock and travels for as far as 1 meter in humans or more in other species. It branches but usually maintains a constant diameter. At the farthest tip of the axon's branches are axon terminals, where the neuron can transmit a signal across the synapse to another cell. Neurons may lack dendrites or have no axon. The term neurite is used to describe either a dendrite or an axon, particularly when the cell is undifferentiated.\\n\\nMost neurons receive signals via the dendrites and soma and send out signals down the axon. At the majority of synapses, signals cross from the axon of one neuron to a dendrite of another. However, synapses can connect an axon to another axon or a dendrite to another dendrite.\\n\\nThe signaling process is partly electrical and partly chemical. Neurons are electrically excitable, due to maintenance of voltage gradients across their membranes. If the voltage changes by a large enough amount over a short interval, the neuron generates an all-or-nothing electrochemical pulse called an action potential. This potential travels rapidly along the axon and activates synaptic connections as it reaches them. Synaptic signals may be excitatory or inhibitory, increasing or reducing the net voltage that reaches the soma.\""
      ]
     },
     "execution_count": 114,
     "metadata": {},
     "output_type": "execute_result"
    }
   ],
   "source": [
    "f.read()"
   ]
  },
  {
   "cell_type": "code",
   "execution_count": 116,
   "id": "fc5e5af0-d322-49cf-8595-51f4040f8e82",
   "metadata": {},
   "outputs": [
    {
     "data": {
      "text/plain": [
       "2424"
      ]
     },
     "execution_count": 116,
     "metadata": {},
     "output_type": "execute_result"
    }
   ],
   "source": [
    "f.tell()"
   ]
  },
  {
   "cell_type": "code",
   "execution_count": 120,
   "id": "0e888e90-0e2d-4332-bebe-dea5de18f726",
   "metadata": {},
   "outputs": [
    {
     "data": {
      "text/plain": [
       "0"
      ]
     },
     "execution_count": 120,
     "metadata": {},
     "output_type": "execute_result"
    }
   ],
   "source": [
    "f.seek(0)"
   ]
  },
  {
   "cell_type": "code",
   "execution_count": 121,
   "id": "66c4d014-9443-4611-b733-b383ad61060d",
   "metadata": {},
   "outputs": [
    {
     "data": {
      "text/plain": [
       "'A neuron, neurone, or nerve cell is an electrically excitable cell that communicates with other cells via specialized connections called synapses. The neuron is the main component of nervous tissue in all animals except sponges and placozoa. Non-animals like plants and fungi do not have nerve cells.\\n'"
      ]
     },
     "execution_count": 121,
     "metadata": {},
     "output_type": "execute_result"
    }
   ],
   "source": [
    "f.readline()"
   ]
  },
  {
   "cell_type": "code",
   "execution_count": 122,
   "id": "200e3d4b-d881-46d6-81c1-1d2d0ae6498b",
   "metadata": {},
   "outputs": [],
   "source": [
    "f.close()"
   ]
  },
  {
   "cell_type": "code",
   "execution_count": 123,
   "id": "efda2eb5-0a65-44b3-8a82-01826fa7b167",
   "metadata": {},
   "outputs": [
    {
     "name": "stdout",
     "output_type": "stream",
     "text": [
      "A neuron, neurone, or nerve cell is an electrically excitable cell that communicates with other cells via specialized connections called synapses. The neuron is the main component of nervous tissue in all animals except sponges and placozoa. Non-animals like plants and fungi do not have nerve cells.\n",
      " \n",
      " Neurons are typically classified into three types based on their function. Sensory neurons respond to stimuli such as touch, sound, or light that affect the cells of the sensory organs, and they send signals to the spinal cord or brain. Motor neurons receive signals from the brain and spinal cord to control everything from muscle contractions to glandular output. Interneurons connect neurons to other neurons within the same region of the brain or spinal cord. When multiple neurons are connected together, they form what is called a neural circuit.\n",
      " \n",
      " A typical neuron consists of a cell body (soma), dendrites, and a single axon. The soma is a compact structure, and the axon and dendrites are filaments extruding from the soma. Dendrites typically branch profusely and extend a few hundred micrometers from the soma. The axon leaves the soma at a swelling called the axon hillock and travels for as far as 1 meter in humans or more in other species. It branches but usually maintains a constant diameter. At the farthest tip of the axon's branches are axon terminals, where the neuron can transmit a signal across the synapse to another cell. Neurons may lack dendrites or have no axon. The term neurite is used to describe either a dendrite or an axon, particularly when the cell is undifferentiated.\n",
      " \n",
      " Most neurons receive signals via the dendrites and soma and send out signals down the axon. At the majority of synapses, signals cross from the axon of one neuron to a dendrite of another. However, synapses can connect an axon to another axon or a dendrite to another dendrite.\n",
      " \n",
      " The signaling process is partly electrical and partly chemical. Neurons are electrically excitable, due to maintenance of voltage gradients across their membranes. If the voltage changes by a large enough amount over a short interval, the neuron generates an all-or-nothing electrochemical pulse called an action potential. This potential travels rapidly along the axon and activates synaptic connections as it reaches them. Synaptic signals may be excitatory or inhibitory, increasing or reducing the net voltage that reaches the soma. "
     ]
    }
   ],
   "source": [
    "f= open(\"Neuron.txt\",\"r+\")\n",
    "for line in f:\n",
    "    print(line, end = \" \" )"
   ]
  },
  {
   "cell_type": "code",
   "execution_count": 125,
   "id": "60108bbd-3f9a-40c7-8a67-8c72ce6857e4",
   "metadata": {},
   "outputs": [],
   "source": [
    "f.close()"
   ]
  },
  {
   "cell_type": "code",
   "execution_count": 131,
   "id": "f122d1a1-1c12-459a-bb29-9b97bdf2cdb8",
   "metadata": {},
   "outputs": [],
   "source": [
    "f = open(\"Neuron.txt\",\"r+\")"
   ]
  },
  {
   "cell_type": "code",
   "execution_count": 132,
   "id": "585115d2-4f47-41b5-a7ee-0d2b1d73a680",
   "metadata": {},
   "outputs": [
    {
     "data": {
      "text/plain": [
       "9"
      ]
     },
     "execution_count": 132,
     "metadata": {},
     "output_type": "execute_result"
    }
   ],
   "source": [
    "len(f.readlines())"
   ]
  },
  {
   "cell_type": "code",
   "execution_count": 138,
   "id": "122dd266-0c10-4847-9c86-8cd576bdea27",
   "metadata": {},
   "outputs": [],
   "source": [
    "l = f.readlines()"
   ]
  },
  {
   "cell_type": "code",
   "execution_count": 139,
   "id": "89243559-0eed-4285-b24b-cbe575c080ee",
   "metadata": {},
   "outputs": [
    {
     "data": {
      "text/plain": [
       "['A neuron, neurone, or nerve cell is an electrically excitable cell that communicates with other cells via specialized connections called synapses. The neuron is the main component of nervous tissue in all animals except sponges and placozoa. Non-animals like plants and fungi do not have nerve cells.\\n',\n",
       " '\\n',\n",
       " 'Neurons are typically classified into three types based on their function. Sensory neurons respond to stimuli such as touch, sound, or light that affect the cells of the sensory organs, and they send signals to the spinal cord or brain. Motor neurons receive signals from the brain and spinal cord to control everything from muscle contractions to glandular output. Interneurons connect neurons to other neurons within the same region of the brain or spinal cord. When multiple neurons are connected together, they form what is called a neural circuit.\\n',\n",
       " '\\n',\n",
       " \"A typical neuron consists of a cell body (soma), dendrites, and a single axon. The soma is a compact structure, and the axon and dendrites are filaments extruding from the soma. Dendrites typically branch profusely and extend a few hundred micrometers from the soma. The axon leaves the soma at a swelling called the axon hillock and travels for as far as 1 meter in humans or more in other species. It branches but usually maintains a constant diameter. At the farthest tip of the axon's branches are axon terminals, where the neuron can transmit a signal across the synapse to another cell. Neurons may lack dendrites or have no axon. The term neurite is used to describe either a dendrite or an axon, particularly when the cell is undifferentiated.\\n\",\n",
       " '\\n',\n",
       " 'Most neurons receive signals via the dendrites and soma and send out signals down the axon. At the majority of synapses, signals cross from the axon of one neuron to a dendrite of another. However, synapses can connect an axon to another axon or a dendrite to another dendrite.\\n',\n",
       " '\\n',\n",
       " 'The signaling process is partly electrical and partly chemical. Neurons are electrically excitable, due to maintenance of voltage gradients across their membranes. If the voltage changes by a large enough amount over a short interval, the neuron generates an all-or-nothing electrochemical pulse called an action potential. This potential travels rapidly along the axon and activates synaptic connections as it reaches them. Synaptic signals may be excitatory or inhibitory, increasing or reducing the net voltage that reaches the soma.']"
      ]
     },
     "execution_count": 139,
     "metadata": {},
     "output_type": "execute_result"
    }
   ],
   "source": [
    "l"
   ]
  },
  {
   "cell_type": "code",
   "execution_count": 140,
   "id": "6232d8b3-21fe-4eac-a3ed-c47fa14ffa51",
   "metadata": {},
   "outputs": [],
   "source": [
    "l1=[]\n",
    "for i in l[0].split():\n",
    "    l1.append(i[0])"
   ]
  },
  {
   "cell_type": "code",
   "execution_count": 141,
   "id": "e2ca6ee4-bf16-459e-a0cc-d3ee4cdb382b",
   "metadata": {},
   "outputs": [
    {
     "data": {
      "text/plain": [
       "['A',\n",
       " 'n',\n",
       " 'n',\n",
       " 'o',\n",
       " 'n',\n",
       " 'c',\n",
       " 'i',\n",
       " 'a',\n",
       " 'e',\n",
       " 'e',\n",
       " 'c',\n",
       " 't',\n",
       " 'c',\n",
       " 'w',\n",
       " 'o',\n",
       " 'c',\n",
       " 'v',\n",
       " 's',\n",
       " 'c',\n",
       " 'c',\n",
       " 's',\n",
       " 'T',\n",
       " 'n',\n",
       " 'i',\n",
       " 't',\n",
       " 'm',\n",
       " 'c',\n",
       " 'o',\n",
       " 'n',\n",
       " 't',\n",
       " 'i',\n",
       " 'a',\n",
       " 'a',\n",
       " 'e',\n",
       " 's',\n",
       " 'a',\n",
       " 'p',\n",
       " 'N',\n",
       " 'l',\n",
       " 'p',\n",
       " 'a',\n",
       " 'f',\n",
       " 'd',\n",
       " 'n',\n",
       " 'h',\n",
       " 'n',\n",
       " 'c']"
      ]
     },
     "execution_count": 141,
     "metadata": {},
     "output_type": "execute_result"
    }
   ],
   "source": [
    "l1"
   ]
  },
  {
   "cell_type": "code",
   "execution_count": 142,
   "id": "582ef90c-c59e-40ff-969a-d09c439e95f7",
   "metadata": {},
   "outputs": [],
   "source": [
    "f.close()"
   ]
  },
  {
   "cell_type": "code",
   "execution_count": 147,
   "id": "8a75a88f-b62c-4286-a288-3dbb835015f6",
   "metadata": {},
   "outputs": [],
   "source": [
    "f = open(\"test1.txt\",\"w+\")\n"
   ]
  },
  {
   "cell_type": "code",
   "execution_count": 149,
   "id": "b77519b1-90cf-45ee-ad40-cf0240c81327",
   "metadata": {},
   "outputs": [],
   "source": [
    "l = [\"this is my line one\" , \"this is my line 2\" , \"this is my line 3\"]"
   ]
  },
  {
   "cell_type": "code",
   "execution_count": 150,
   "id": "7cec7e7e-13a8-497d-a8d4-8ab756efe20a",
   "metadata": {},
   "outputs": [
    {
     "data": {
      "text/plain": [
       "36"
      ]
     },
     "execution_count": 150,
     "metadata": {},
     "output_type": "execute_result"
    }
   ],
   "source": [
    "f.write(\"i can write lines at current cursor \")"
   ]
  },
  {
   "cell_type": "code",
   "execution_count": 151,
   "id": "0655a76a-ea8a-4b81-bf73-e37d533a8fde",
   "metadata": {},
   "outputs": [],
   "source": [
    "f.writelines(l)"
   ]
  },
  {
   "cell_type": "code",
   "execution_count": null,
   "id": "55f04aa3-352b-488d-9cdc-fc8e18e73315",
   "metadata": {},
   "outputs": [],
   "source": [
    "f.close()"
   ]
  },
  {
   "cell_type": "code",
   "execution_count": null,
   "id": "c5af0c64-1b62-48d4-aa87-de314d5ffb31",
   "metadata": {},
   "outputs": [],
   "source": [
    "os.getcwd()"
   ]
  }
 ],
 "metadata": {
  "kernelspec": {
   "display_name": "Python 3 (ipykernel)",
   "language": "python",
   "name": "python3"
  },
  "language_info": {
   "codemirror_mode": {
    "name": "ipython",
    "version": 3
   },
   "file_extension": ".py",
   "mimetype": "text/x-python",
   "name": "python",
   "nbconvert_exporter": "python",
   "pygments_lexer": "ipython3",
   "version": "3.10.6"
  }
 },
 "nbformat": 4,
 "nbformat_minor": 5
}
