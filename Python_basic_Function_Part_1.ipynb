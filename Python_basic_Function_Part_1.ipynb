{
 "cells": [
  {
   "cell_type": "code",
   "execution_count": null,
   "id": "2009b5ce-15c3-464f-9382-0ef003b53575",
   "metadata": {},
   "outputs": [],
   "source": [
    "len(\"sudh\")"
   ]
  },
  {
   "cell_type": "code",
   "execution_count": 2,
   "id": "6e9e15a8-57ab-445b-8a52-787c05878521",
   "metadata": {},
   "outputs": [
    {
     "name": "stdout",
     "output_type": "stream",
     "text": [
      "fjafjafjas\n"
     ]
    }
   ],
   "source": [
    "print(\"fjafjafjas\")"
   ]
  },
  {
   "cell_type": "code",
   "execution_count": 3,
   "id": "ed747143-41c1-4df8-a7e3-345726de22eb",
   "metadata": {},
   "outputs": [],
   "source": [
    "def test():\n",
    "    pass"
   ]
  },
  {
   "cell_type": "code",
   "execution_count": 4,
   "id": "b70be922-6131-40d0-899a-994d03d44af5",
   "metadata": {},
   "outputs": [],
   "source": [
    "def test1():\n",
    "    print(\"This is my first function\")"
   ]
  },
  {
   "cell_type": "code",
   "execution_count": 5,
   "id": "3425aa7e-c2df-49f4-a610-0e7aa97ca4a0",
   "metadata": {},
   "outputs": [
    {
     "name": "stdout",
     "output_type": "stream",
     "text": [
      "This is my first function\n"
     ]
    }
   ],
   "source": [
    "test1()"
   ]
  },
  {
   "cell_type": "code",
   "execution_count": 6,
   "id": "895aac68-23ab-4684-87c7-344cb31fc4a9",
   "metadata": {},
   "outputs": [
    {
     "name": "stdout",
     "output_type": "stream",
     "text": [
      "This is my first function\n"
     ]
    }
   ],
   "source": [
    "a = test1()"
   ]
  },
  {
   "cell_type": "code",
   "execution_count": 7,
   "id": "b7c49154-37e9-409e-81bf-136a8d39c1f0",
   "metadata": {},
   "outputs": [
    {
     "name": "stdout",
     "output_type": "stream",
     "text": [
      "This is my first function\n"
     ]
    },
    {
     "ename": "TypeError",
     "evalue": "unsupported operand type(s) for +: 'NoneType' and 'str'",
     "output_type": "error",
     "traceback": [
      "\u001b[0;31m---------------------------------------------------------------------------\u001b[0m",
      "\u001b[0;31mTypeError\u001b[0m                                 Traceback (most recent call last)",
      "Cell \u001b[0;32mIn [7], line 1\u001b[0m\n\u001b[0;32m----> 1\u001b[0m \u001b[43mtest1\u001b[49m\u001b[43m(\u001b[49m\u001b[43m)\u001b[49m\u001b[43m \u001b[49m\u001b[38;5;241;43m+\u001b[39;49m\u001b[43m \u001b[49m\u001b[38;5;124;43m\"\u001b[39;49m\u001b[38;5;124;43msudh\u001b[39;49m\u001b[38;5;124;43m\"\u001b[39;49m\n",
      "\u001b[0;31mTypeError\u001b[0m: unsupported operand type(s) for +: 'NoneType' and 'str'"
     ]
    }
   ],
   "source": [
    "test1() + \"sudh\""
   ]
  },
  {
   "cell_type": "code",
   "execution_count": 8,
   "id": "3b0c830d-9e8a-4301-afc7-7db0176047f7",
   "metadata": {},
   "outputs": [
    {
     "data": {
      "text/plain": [
       "'sudhkumar'"
      ]
     },
     "execution_count": 8,
     "metadata": {},
     "output_type": "execute_result"
    }
   ],
   "source": [
    "\"sudh\" + \"kumar\""
   ]
  },
  {
   "cell_type": "code",
   "execution_count": 14,
   "id": "2f20fb36-5166-414a-9e67-042bdf88aa4c",
   "metadata": {},
   "outputs": [
    {
     "name": "stdout",
     "output_type": "stream",
     "text": [
      "This is my first function\n"
     ]
    },
    {
     "data": {
      "text/plain": [
       "NoneType"
      ]
     },
     "execution_count": 14,
     "metadata": {},
     "output_type": "execute_result"
    }
   ],
   "source": [
    "type(test1())"
   ]
  },
  {
   "cell_type": "code",
   "execution_count": 10,
   "id": "5e6d30df-ab09-4297-908c-840006ab8da6",
   "metadata": {},
   "outputs": [
    {
     "data": {
      "text/plain": [
       "'None'"
      ]
     },
     "execution_count": 10,
     "metadata": {},
     "output_type": "execute_result"
    }
   ],
   "source": [
    "str(a)"
   ]
  },
  {
   "cell_type": "code",
   "execution_count": 11,
   "id": "423363f4-2170-4161-8674-29a57bc08fd2",
   "metadata": {},
   "outputs": [],
   "source": [
    "def test2():\n",
    "    return \"this is my first function\""
   ]
  },
  {
   "cell_type": "code",
   "execution_count": 13,
   "id": "224dce43-0bf4-4e37-af69-889bf1d9f6e5",
   "metadata": {},
   "outputs": [
    {
     "data": {
      "text/plain": [
       "str"
      ]
     },
     "execution_count": 13,
     "metadata": {},
     "output_type": "execute_result"
    }
   ],
   "source": [
    "type(test2())"
   ]
  },
  {
   "cell_type": "code",
   "execution_count": 15,
   "id": "b617015f-f585-42ea-a6f1-331a8ef4a5e5",
   "metadata": {},
   "outputs": [],
   "source": [
    "def test3():\n",
    "    return 234532"
   ]
  },
  {
   "cell_type": "code",
   "execution_count": 16,
   "id": "99e6cf36-1d8b-4a99-b1ea-c76fc42e02e8",
   "metadata": {},
   "outputs": [
    {
     "data": {
      "text/plain": [
       "int"
      ]
     },
     "execution_count": 16,
     "metadata": {},
     "output_type": "execute_result"
    }
   ],
   "source": [
    "type(test3())"
   ]
  },
  {
   "cell_type": "code",
   "execution_count": 17,
   "id": "9eee173a-3761-4eda-af4e-29f66527225f",
   "metadata": {},
   "outputs": [],
   "source": [
    "def test4():\n",
    "    return 4,3, \"sudh\",[1,2,3,4,5]"
   ]
  },
  {
   "cell_type": "code",
   "execution_count": 18,
   "id": "c0ee8597-deff-4d54-b66b-14210c5148ed",
   "metadata": {},
   "outputs": [],
   "source": [
    "b= test4()"
   ]
  },
  {
   "cell_type": "code",
   "execution_count": 19,
   "id": "4b252b25-9a1c-4ddb-b34f-a4ff5ff817f2",
   "metadata": {},
   "outputs": [
    {
     "data": {
      "text/plain": [
       "(4, 3, 'sudh', [1, 2, 3, 4, 5])"
      ]
     },
     "execution_count": 19,
     "metadata": {},
     "output_type": "execute_result"
    }
   ],
   "source": [
    "b"
   ]
  },
  {
   "cell_type": "code",
   "execution_count": 20,
   "id": "a472030d-9daf-42f7-8631-35f0a21061bf",
   "metadata": {},
   "outputs": [
    {
     "data": {
      "text/plain": [
       "3"
      ]
     },
     "execution_count": 20,
     "metadata": {},
     "output_type": "execute_result"
    }
   ],
   "source": [
    "b[1]"
   ]
  },
  {
   "cell_type": "code",
   "execution_count": 21,
   "id": "e4e8597b-93cd-4474-b152-cbee981872f3",
   "metadata": {},
   "outputs": [
    {
     "data": {
      "text/plain": [
       "[1, 2, 3, 4, 5]"
      ]
     },
     "execution_count": 21,
     "metadata": {},
     "output_type": "execute_result"
    }
   ],
   "source": [
    "b[3]"
   ]
  },
  {
   "cell_type": "code",
   "execution_count": 22,
   "id": "369b8f68-65e9-4c05-b4b7-97c295f9a2dc",
   "metadata": {},
   "outputs": [
    {
     "data": {
      "text/plain": [
       "(4, 3, 'sudh', [1, 2, 3, 4, 5])"
      ]
     },
     "execution_count": 22,
     "metadata": {},
     "output_type": "execute_result"
    }
   ],
   "source": [
    "test4()"
   ]
  },
  {
   "cell_type": "code",
   "execution_count": 23,
   "id": "9944d478-5cba-4e32-8363-8dd5b1d33b2b",
   "metadata": {},
   "outputs": [],
   "source": [
    "a=1\n",
    "b=5\n",
    "c=\"sudh\"\n",
    "d = [3453554, 4322343,543,565443667]"
   ]
  },
  {
   "cell_type": "code",
   "execution_count": 24,
   "id": "fcb34d03-3904-4562-b268-5ec260646685",
   "metadata": {},
   "outputs": [],
   "source": [
    "a,b,c,d = 34,45,\"sudh\",\"dfasdfa\""
   ]
  },
  {
   "cell_type": "code",
   "execution_count": 30,
   "id": "3bc36d75-d7dc-429c-b709-226c81f34205",
   "metadata": {},
   "outputs": [
    {
     "ename": "ValueError",
     "evalue": "not enough values to unpack (expected 5, got 4)",
     "output_type": "error",
     "traceback": [
      "\u001b[0;31m---------------------------------------------------------------------------\u001b[0m",
      "\u001b[0;31mValueError\u001b[0m                                Traceback (most recent call last)",
      "Cell \u001b[0;32mIn [30], line 1\u001b[0m\n\u001b[0;32m----> 1\u001b[0m x,y,u,v, d \u001b[38;5;241m=\u001b[39m test4()\n",
      "\u001b[0;31mValueError\u001b[0m: not enough values to unpack (expected 5, got 4)"
     ]
    }
   ],
   "source": [
    "x,y,u,v, d = test4()"
   ]
  },
  {
   "cell_type": "code",
   "execution_count": 31,
   "id": "92dc0ee6-3b24-4190-a6bd-e5e6ddd26714",
   "metadata": {},
   "outputs": [
    {
     "ename": "NameError",
     "evalue": "name 'x' is not defined",
     "output_type": "error",
     "traceback": [
      "\u001b[0;31m---------------------------------------------------------------------------\u001b[0m",
      "\u001b[0;31mNameError\u001b[0m                                 Traceback (most recent call last)",
      "Cell \u001b[0;32mIn [31], line 1\u001b[0m\n\u001b[0;32m----> 1\u001b[0m \u001b[43mx\u001b[49m\n",
      "\u001b[0;31mNameError\u001b[0m: name 'x' is not defined"
     ]
    }
   ],
   "source": [
    "x"
   ]
  },
  {
   "cell_type": "code",
   "execution_count": 32,
   "id": "2ee2f9dc-2e69-4536-a97d-a639ca468cd0",
   "metadata": {},
   "outputs": [],
   "source": [
    "def test5():\n",
    "    a = 6*7/6\n",
    "    return a"
   ]
  },
  {
   "cell_type": "code",
   "execution_count": 33,
   "id": "f6cda95b-3ea3-4828-88d9-76ac82da43d7",
   "metadata": {},
   "outputs": [
    {
     "data": {
      "text/plain": [
       "7.0"
      ]
     },
     "execution_count": 33,
     "metadata": {},
     "output_type": "execute_result"
    }
   ],
   "source": [
    "test5()"
   ]
  },
  {
   "cell_type": "code",
   "execution_count": 34,
   "id": "75b3ca89-a97f-4f29-a78b-d74d537905a2",
   "metadata": {},
   "outputs": [],
   "source": []
  },
  {
   "cell_type": "code",
   "execution_count": 91,
   "id": "4f0db481-9f8b-4703-a26c-cea4f2887cc7",
   "metadata": {},
   "outputs": [],
   "source": [
    "m = [3,4,5,6,7,7,\"sudh\",[1,3,4,54,56]]\n",
    "def test6(a):\n",
    "    n = []\n",
    "    if type(a) == list:\n",
    "        for i in a:\n",
    "            if type(i) == int:\n",
    "                n.append(i)\n",
    "                \n",
    "    return n      "
   ]
  },
  {
   "cell_type": "code",
   "execution_count": 92,
   "id": "b9eaf739-6093-4135-b689-c11df8d5e6de",
   "metadata": {},
   "outputs": [
    {
     "data": {
      "text/plain": [
       "[3, 4, 5, 6, 7, 7]"
      ]
     },
     "execution_count": 92,
     "metadata": {},
     "output_type": "execute_result"
    }
   ],
   "source": [
    "test6(m)"
   ]
  },
  {
   "cell_type": "code",
   "execution_count": 90,
   "id": "72895bf9-7f54-4807-8739-c496077c378e",
   "metadata": {},
   "outputs": [],
   "source": [
    "k = [3,4,5,6,7,7,\"sudh\",[1,3,4,54,56],6,7]\n",
    "def test7(a):\n",
    "    n = []\n",
    "    if type(a) == list:\n",
    "        for i in a:\n",
    "            if type(i) == int:\n",
    "                n.append(i)\n",
    "            elif type(i) == list:\n",
    "                for j in i:\n",
    "                    if type(j) == int:\n",
    "                        n.append(j)\n",
    "    return n"
   ]
  },
  {
   "cell_type": "code",
   "execution_count": 81,
   "id": "607560c2-cd68-4cf6-b5a0-c6fe7e43f801",
   "metadata": {},
   "outputs": [
    {
     "data": {
      "text/plain": [
       "[3, 4, 5, 6, 7, 7, 1, 3, 4, 54, 56, 6, 7]"
      ]
     },
     "execution_count": 81,
     "metadata": {},
     "output_type": "execute_result"
    }
   ],
   "source": [
    "test7(k)"
   ]
  },
  {
   "cell_type": "code",
   "execution_count": 82,
   "id": "e02fae07-5ec2-429d-bdf6-7451709e83c3",
   "metadata": {},
   "outputs": [
    {
     "data": {
      "text/plain": [
       "list"
      ]
     },
     "execution_count": 82,
     "metadata": {},
     "output_type": "execute_result"
    }
   ],
   "source": [
    "type(test7(k))"
   ]
  },
  {
   "cell_type": "code",
   "execution_count": 10,
   "id": "7635933c-7a65-4448-9db1-3ddf91788eb3",
   "metadata": {},
   "outputs": [],
   "source": [
    "o =  [3,4,5,6,7,7,\"sudh\",[1,3,4,54,56]]\n",
    "def test8(a):\n",
    "    n=[]\n",
    "    if type(a) == list:\n",
    "        for i in a:\n",
    "            if type(i) == int:\n",
    "                n.append(i)\n",
    "            elif type(i) == list:\n",
    "                for j in i:\n",
    "                    if type(j) == int:\n",
    "                        n.append(j)\n",
    "    return          \n",
    "            "
   ]
  },
  {
   "cell_type": "code",
   "execution_count": 14,
   "id": "d11ead9a-f14b-477f-822f-de48be7a66fe",
   "metadata": {},
   "outputs": [],
   "source": [
    " test8(o)"
   ]
  },
  {
   "cell_type": "code",
   "execution_count": 17,
   "id": "f30346b3-2ace-49e4-8176-1b969ae3d7ce",
   "metadata": {},
   "outputs": [],
   "source": []
  },
  {
   "cell_type": "code",
   "execution_count": 16,
   "id": "dee0c3d3-31c9-4c47-8356-4b7d524825c1",
   "metadata": {},
   "outputs": [],
   "source": [
    "def test9(c):\n",
    "    if type(c) == dict:\n",
    "        return c.values()\n",
    "    else:\n",
    "        return \" you have not passed a dic\""
   ]
  },
  {
   "cell_type": "code",
   "execution_count": 3,
   "id": "a7c0b9cf-527d-4de6-8af8-c4e8094ae27e",
   "metadata": {},
   "outputs": [
    {
     "data": {
      "text/plain": [
       "' you have not passed a dic'"
      ]
     },
     "execution_count": 3,
     "metadata": {},
     "output_type": "execute_result"
    }
   ],
   "source": [
    "test9(\"aljdlsajf\")"
   ]
  },
  {
   "cell_type": "code",
   "execution_count": 8,
   "id": "b3addddb-88a2-474b-a25c-71c42abf62e6",
   "metadata": {},
   "outputs": [
    {
     "data": {
      "text/plain": [
       "dict_values(['dsjfajf', 2343557733, [4, 5.76, 78, 9]])"
      ]
     },
     "execution_count": 8,
     "metadata": {},
     "output_type": "execute_result"
    }
   ],
   "source": [
    "test9({\"a\":\"dsjfajf\", \"b\":2343557733, \"c\":[4,5.76,78,9]})"
   ]
  },
  {
   "cell_type": "code",
   "execution_count": 1,
   "id": "0f611ec5-c91f-47c6-a2db-aa9b271ee42c",
   "metadata": {},
   "outputs": [],
   "source": [
    "def tri(n):\n",
    "    \"\"\"  \n",
    "    this is a fun to craete a tri \n",
    "    you can give input as an int \n",
    "    and you will be able to get output as a traingle \n",
    "    \n",
    "    \"\"\"\n",
    "    for i in range(0,n):\n",
    "        for j in range(0,i+1):\n",
    "            print(\"*\" , end=\" \")\n",
    "        print('\\r')    "
   ]
  },
  {
   "cell_type": "code",
   "execution_count": 36,
   "id": "11ff041d-5140-4223-be89-abf75ccd019c",
   "metadata": {},
   "outputs": [
    {
     "name": "stdout",
     "output_type": "stream",
     "text": [
      "* \n",
      "* * \n",
      "* * * \n",
      "* * * * \n",
      "* * * * * \n"
     ]
    }
   ],
   "source": [
    "tri(5)"
   ]
  },
  {
   "cell_type": "markdown",
   "id": "9b78437f-5971-45e6-978c-ccc531f29ae1",
   "metadata": {},
   "source": [
    "tri(10)"
   ]
  },
  {
   "cell_type": "code",
   "execution_count": 3,
   "id": "f222195b-0444-435a-9edd-8eb61fc8e602",
   "metadata": {},
   "outputs": [
    {
     "name": "stdout",
     "output_type": "stream",
     "text": [
      "* \n",
      "* * \n",
      "* * * \n",
      "* * * * \n",
      "* * * * * \n",
      "* * * * * * \n",
      "* * * * * * * \n",
      "* * * * * * * * \n",
      "* * * * * * * * * \n",
      "* * * * * * * * * * \n"
     ]
    }
   ],
   "source": [
    "tri(10)"
   ]
  },
  {
   "cell_type": "code",
   "execution_count": 4,
   "id": "ea7a40ed-349d-4f06-b14e-05ce37536624",
   "metadata": {},
   "outputs": [
    {
     "name": "stdout",
     "output_type": "stream",
     "text": [
      "* \n",
      "* * \n",
      "* * * \n",
      "* * * * \n",
      "* * * * * \n",
      "* * * * * * \n",
      "* * * * * * * \n",
      "* * * * * * * * \n",
      "* * * * * * * * * \n",
      "* * * * * * * * * * \n",
      "* * * * * * * * * * * \n",
      "* * * * * * * * * * * * \n",
      "* * * * * * * * * * * * * \n",
      "* * * * * * * * * * * * * * \n",
      "* * * * * * * * * * * * * * * \n",
      "* * * * * * * * * * * * * * * * \n",
      "* * * * * * * * * * * * * * * * * \n",
      "* * * * * * * * * * * * * * * * * * \n",
      "* * * * * * * * * * * * * * * * * * * \n",
      "* * * * * * * * * * * * * * * * * * * * \n",
      "* * * * * * * * * * * * * * * * * * * * * \n",
      "* * * * * * * * * * * * * * * * * * * * * * \n",
      "* * * * * * * * * * * * * * * * * * * * * * * \n",
      "* * * * * * * * * * * * * * * * * * * * * * * * \n",
      "* * * * * * * * * * * * * * * * * * * * * * * * * \n",
      "* * * * * * * * * * * * * * * * * * * * * * * * * * \n",
      "* * * * * * * * * * * * * * * * * * * * * * * * * * * \n",
      "* * * * * * * * * * * * * * * * * * * * * * * * * * * * \n",
      "* * * * * * * * * * * * * * * * * * * * * * * * * * * * * \n",
      "* * * * * * * * * * * * * * * * * * * * * * * * * * * * * * \n",
      "* * * * * * * * * * * * * * * * * * * * * * * * * * * * * * * \n",
      "* * * * * * * * * * * * * * * * * * * * * * * * * * * * * * * * \n",
      "* * * * * * * * * * * * * * * * * * * * * * * * * * * * * * * * * \n",
      "* * * * * * * * * * * * * * * * * * * * * * * * * * * * * * * * * * \n",
      "* * * * * * * * * * * * * * * * * * * * * * * * * * * * * * * * * * * \n",
      "* * * * * * * * * * * * * * * * * * * * * * * * * * * * * * * * * * * * \n",
      "* * * * * * * * * * * * * * * * * * * * * * * * * * * * * * * * * * * * * \n",
      "* * * * * * * * * * * * * * * * * * * * * * * * * * * * * * * * * * * * * * \n",
      "* * * * * * * * * * * * * * * * * * * * * * * * * * * * * * * * * * * * * * * \n",
      "* * * * * * * * * * * * * * * * * * * * * * * * * * * * * * * * * * * * * * * * \n",
      "* * * * * * * * * * * * * * * * * * * * * * * * * * * * * * * * * * * * * * * * * \n",
      "* * * * * * * * * * * * * * * * * * * * * * * * * * * * * * * * * * * * * * * * * * \n",
      "* * * * * * * * * * * * * * * * * * * * * * * * * * * * * * * * * * * * * * * * * * * \n",
      "* * * * * * * * * * * * * * * * * * * * * * * * * * * * * * * * * * * * * * * * * * * * \n",
      "* * * * * * * * * * * * * * * * * * * * * * * * * * * * * * * * * * * * * * * * * * * * * \n",
      "* * * * * * * * * * * * * * * * * * * * * * * * * * * * * * * * * * * * * * * * * * * * * * \n",
      "* * * * * * * * * * * * * * * * * * * * * * * * * * * * * * * * * * * * * * * * * * * * * * * \n",
      "* * * * * * * * * * * * * * * * * * * * * * * * * * * * * * * * * * * * * * * * * * * * * * * * \n",
      "* * * * * * * * * * * * * * * * * * * * * * * * * * * * * * * * * * * * * * * * * * * * * * * * * \n",
      "* * * * * * * * * * * * * * * * * * * * * * * * * * * * * * * * * * * * * * * * * * * * * * * * * * \n"
     ]
    }
   ],
   "source": [
    "tri(50)"
   ]
  },
  {
   "cell_type": "code",
   "execution_count": 6,
   "id": "fc5c4157-a1b2-4285-a401-2cf9ce4a8ab0",
   "metadata": {},
   "outputs": [],
   "source": [
    "def ext(a,b):\n",
    "    if type(a) == list and type(b) == list :\n",
    "        a.extend(b)\n",
    "        return a\n",
    "    else:\n",
    "        print(\"this is not valid list\")"
   ]
  },
  {
   "cell_type": "code",
   "execution_count": 7,
   "id": "5cccfca0-dca3-4bfc-806d-1d2a2caefbe4",
   "metadata": {},
   "outputs": [
    {
     "name": "stdout",
     "output_type": "stream",
     "text": [
      "this is not valid list\n"
     ]
    }
   ],
   "source": [
    "ext(\"lkjjajfkf\", 13413244)"
   ]
  },
  {
   "cell_type": "code",
   "execution_count": 8,
   "id": "47bde050-9a22-4e7a-81a6-3093938e6063",
   "metadata": {},
   "outputs": [
    {
     "name": "stdout",
     "output_type": "stream",
     "text": [
      "this is not valid list\n"
     ]
    }
   ],
   "source": [
    "ext((1,2,3,4,5,6,7),[\"sudh\",244234])"
   ]
  },
  {
   "cell_type": "code",
   "execution_count": 9,
   "id": "3e32304a-a7a4-4138-a378-7eef711f13ea",
   "metadata": {},
   "outputs": [
    {
     "data": {
      "text/plain": [
       "[1, 2, 34, 56, 78, 89, 98, 76, 54, 33, 21, 21]"
      ]
     },
     "execution_count": 9,
     "metadata": {},
     "output_type": "execute_result"
    }
   ],
   "source": [
    "ext([1,2,34,56,78,89],[98,76,54,33,21,21])"
   ]
  },
  {
   "cell_type": "code",
   "execution_count": null,
   "id": "ed7551b6-9846-427a-90f0-8b3d0e1ef755",
   "metadata": {},
   "outputs": [],
   "source": []
  }
 ],
 "metadata": {
  "kernelspec": {
   "display_name": "Python 3 (ipykernel)",
   "language": "python",
   "name": "python3"
  },
  "language_info": {
   "codemirror_mode": {
    "name": "ipython",
    "version": 3
   },
   "file_extension": ".py",
   "mimetype": "text/x-python",
   "name": "python",
   "nbconvert_exporter": "python",
   "pygments_lexer": "ipython3",
   "version": "3.10.6"
  }
 },
 "nbformat": 4,
 "nbformat_minor": 5
}
